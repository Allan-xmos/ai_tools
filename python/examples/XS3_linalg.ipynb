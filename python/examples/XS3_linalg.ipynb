{
 "cells": [
  {
   "cell_type": "code",
   "execution_count": null,
   "metadata": {},
   "outputs": [],
   "source": [
    "import numpy as np\n",
    "from XS3VPU import XS3VPU\n",
    "\n",
    "import tensorflow as tf\n",
    "print(\"Executing eagerly: {}\".format(tf.executing_eagerly()))"
   ]
  },
  {
   "cell_type": "markdown",
   "metadata": {},
   "source": [
    "# Dense matrix multiplication"
   ]
  },
  {
   "cell_type": "code",
   "execution_count": null,
   "metadata": {},
   "outputs": [],
   "source": [
    "def compute_chunk(vpu, W_XS3, W_start, N, x_XS3, x_chunk_start):\n",
    "    # total of vpu.acc_period + 1 instructions\n",
    "    vpu.VLDC(x_XS3[x_chunk_start:x_chunk_start+vpu.ve])\n",
    "    rw = W_start\n",
    "    for _ in range(vpu.acc_period):  # unroll in asm\n",
    "        vpu.VLMACCR(W_XS3[rw:rw+vpu.ve])\n",
    "        rw += N\n",
    "    \n",
    "def compute_strip(vpu, W_XS3, strip_start, N, x_XS3, y_XS3, y_ind):\n",
    "    # total estimated instructions: N_chunks * (vpu.acc_period + 3) + 1\n",
    "    \n",
    "    vpu.VCLRDR()\n",
    "    W_start = strip_start\n",
    "    N_chunks = N // vpu.ve  # 1 instr.\n",
    "    x_chunk_start = 0\n",
    "    \n",
    "    for _ in range(N_chunks):  # 1 instr. per loop\n",
    "        compute_chunk(vpu, W_XS3, W_start, N, x_XS3, x_chunk_start)  # 17 instr. per loop\n",
    "        W_start += vpu.ve\n",
    "        x_chunk_start += vpu.ve  # 1 instr. per loop\n",
    "        \n",
    "    y_XS3[y_ind:y_ind+vpu.acc_period] = vpu._combine_vD_vR()  # VLSAT, VST*, 2 instr.\n",
    "\n",
    "def XS3_matmul(vpu, W_XS3, N, M, x_XS3, y_XS3):  # ~5  instr. for function call\n",
    "    # total estimated instructions M_chunks * (N_chunks * (vpu.acc_period + 3) + 3) + 6\n",
    "    \n",
    "    y_ind = 0\n",
    "    strip_start = 0\n",
    "    M_chunks = M // vpu.acc_period # 1\n",
    "    for _ in range(M_chunks):  # 1 instr. per loop\n",
    "        compute_strip(vpu, W_XS3, strip_start, N, x_XS3, y_XS3, y_ind)  # N_chunks * (vpu.acc_period + 3) + 1 instr. per loop\n",
    "        strip_start += vpu.acc_period * N\n",
    "        y_ind += vpu.acc_period  # 1 instr. per loop"
   ]
  },
  {
   "cell_type": "code",
   "execution_count": null,
   "metadata": {},
   "outputs": [],
   "source": [
    "vpu = XS3VPU(bpe=8)\n",
    "int8min, int8max = vpu._sat_bounds(vpu._single)"
   ]
  },
  {
   "cell_type": "code",
   "execution_count": null,
   "metadata": {},
   "outputs": [],
   "source": [
    "N_chunks, M_chunks = 3, 2\n",
    "N = N_chunks * vpu._ve\n",
    "M = M_chunks * (vpu._ve//2)\n",
    "\n",
    "# generate coefficients and data\n",
    "W = np.random.randint(int8min, int8max, size=(M, N), dtype=np.int8)\n",
    "x = np.random.randint(int8min, int8max, size=(N,), dtype=np.int8)\n",
    "\n",
    "# reference output\n",
    "y = np.matmul(np.int32(W), np.int32(x))"
   ]
  },
  {
   "cell_type": "code",
   "execution_count": null,
   "metadata": {},
   "outputs": [],
   "source": [
    "# mimic XS3 layout in memory\n",
    "W_XS3 = np.copy(W.flatten())\n",
    "x_XS3 = np.copy(x)\n",
    "y_XS3 = np.zeros(y.shape, dtype=y.dtype)"
   ]
  },
  {
   "cell_type": "code",
   "execution_count": null,
   "metadata": {},
   "outputs": [],
   "source": [
    "XS3_matmul(vpu, W_XS3, N, M, x_XS3, y_XS3)\n",
    "        \n",
    "print(\"Output matches reference: {}\".format(np.all(y_XS3 == y)))\n",
    "#print(\"Estimated vector instruction count: {}\".format(cnt))"
   ]
  },
  {
   "cell_type": "markdown",
   "metadata": {},
   "source": [
    "# 1x1 Convolution"
   ]
  },
  {
   "cell_type": "code",
   "execution_count": null,
   "metadata": {},
   "outputs": [],
   "source": [
    "def compute_chunk_of_in_pixel(vpu, K_XS3, C_in, K_in_chunk_start, D_XS3, p_chunk_start):\n",
    "    vpu.VLDC(D_XS3[p_chunk_start:p_chunk_start+vpu.ve])\n",
    "    rk = K_in_chunk_start\n",
    "    for _ in range(vpu.acc_period):\n",
    "        vpu.VLMACCR(K_XS3[rk:rk+vpu.ve])\n",
    "        rk += C_in\n",
    "\n",
    "def compute_chunk_of_out_pixel(vpu, K_XS3, K_out_chunk_start, C_in, D_XS3, in_pixel_start, Y_XS3, Y_start):\n",
    "    vpu.VCLRDR()\n",
    "    C_in_chunks = C_in // vpu.ve\n",
    "    rc = K_out_chunk_start\n",
    "    rp = in_pixel_start\n",
    "    for _ in range(C_in_chunks):\n",
    "        compute_chunk_of_in_pixel(vpu, K_XS3, C_in, K_in_chunk_start=rc, D_XS3=D_XS3, p_chunk_start=rp)\n",
    "        rc += vpu.ve\n",
    "        rp += vpu.ve\n",
    "    Y_XS3[Y_start:Y_start+vpu.acc_period] = vpu._combine_vD_vR()\n",
    "        \n",
    "def compute_chunk_of_out_image(vpu, K_XS3, out_chunk_start, C_in, C_out, D_XS3, M, N, Y_XS3):\n",
    "    ry = out_chunk_start\n",
    "    rx = 0\n",
    "    C_out_chunks = C_out // vpu.acc_period\n",
    "    for _ in range(M):\n",
    "        for _ in range(N):\n",
    "            compute_chunk_of_out_pixel(vpu, K_XS3, K_out_chunk_start=out_chunk_start*C_in,\n",
    "                                       C_in=C_in, D_XS3=D_XS3, in_pixel_start=rx, Y_XS3=Y_XS3, Y_start=ry)\n",
    "            rx += C_in_chunks * vpu.ve\n",
    "            ry += C_out_chunks * vpu.acc_period\n",
    "    \n",
    "def XS3_conv2d_1x1(vpu, K_XS3, C_in, C_out, D_XS3, M, N, Y_XS3):\n",
    "    out_chunk_start = 0\n",
    "    for _ in range(C_out_chunks):\n",
    "        compute_chunk_of_out_image(vpu, K_XS3, out_chunk_start, C_in, C_out, D_XS3, M, N, Y_XS3)\n",
    "        out_chunk_start += vpu.acc_period"
   ]
  },
  {
   "cell_type": "code",
   "execution_count": null,
   "metadata": {},
   "outputs": [],
   "source": [
    "vpu = XS3VPU(bpe=8)\n",
    "int8min, int8max = vpu._sat_bounds(vpu._single)"
   ]
  },
  {
   "cell_type": "code",
   "execution_count": null,
   "metadata": {},
   "outputs": [],
   "source": [
    "C_in_chunks, C_out_chunks = 7, 5\n",
    "C_in = C_in_chunks * vpu._ve\n",
    "C_out = C_out_chunks * (vpu._ve//2)\n",
    "N = 3\n",
    "M = 4\n",
    "\n",
    "# generate kernels and data\n",
    "K = np.random.randint(int8min, int8max, size=(C_out, C_in), dtype=np.int8)\n",
    "D = np.random.randint(int8min, int8max, size=(M, N, C_in), dtype=np.int8)"
   ]
  },
  {
   "cell_type": "code",
   "execution_count": null,
   "metadata": {},
   "outputs": [],
   "source": [
    "# convert to tf.float64, because tf.nn.conv2d cannot handle integer tensors\n",
    "D_tf = tf.convert_to_tensor(D, dtype=tf.float64)\n",
    "D_tf = tf.expand_dims(D_tf, axis=0)\n",
    "K_tf = tf.convert_to_tensor(K.T, dtype=tf.float64)\n",
    "K_tf = tf.expand_dims(tf.expand_dims(K_tf, axis=0), axis=0)\n",
    "\n",
    "# reference output\n",
    "Y_tf = tf.nn.conv2d(D_tf, K_tf, strides=1, padding=\"VALID\", data_format='NHWC')\n",
    "Y_tf = tf.cast(Y_tf, tf.int32)\n",
    "Y = np.squeeze(Y_tf.numpy())"
   ]
  },
  {
   "cell_type": "code",
   "execution_count": null,
   "metadata": {},
   "outputs": [],
   "source": [
    "# mimic XS3 layout in memory\n",
    "K_XS3 = np.copy(K.flatten())\n",
    "D_XS3 = np.copy(D.flatten())\n",
    "Y_XS3 = np.zeros((M, N, C_out), dtype=np.int32).flatten()"
   ]
  },
  {
   "cell_type": "code",
   "execution_count": null,
   "metadata": {},
   "outputs": [],
   "source": [
    "XS3_conv2d_1x1(vpu, K_XS3, C_in, C_out, D_XS3, M, N, Y_XS3)\n",
    "\n",
    "print(\"Output matches reference: {}\".format(np.all(Y_XS3 == Y.flatten())))"
   ]
  },
  {
   "cell_type": "code",
   "execution_count": null,
   "metadata": {},
   "outputs": [],
   "source": []
  }
 ],
 "metadata": {
  "kernelspec": {
   "display_name": "Python 3",
   "language": "python",
   "name": "python3"
  },
  "language_info": {
   "codemirror_mode": {
    "name": "ipython",
    "version": 3
   },
   "file_extension": ".py",
   "mimetype": "text/x-python",
   "name": "python",
   "nbconvert_exporter": "python",
   "pygments_lexer": "ipython3",
   "version": "3.6.8rc1"
  }
 },
 "nbformat": 4,
 "nbformat_minor": 2
}
