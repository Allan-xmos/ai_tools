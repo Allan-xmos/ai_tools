{
 "cells": [
  {
   "cell_type": "code",
   "execution_count": null,
   "metadata": {},
   "outputs": [],
   "source": [
    "import numpy as np\n",
    "from XS3VPU import XS3VPU\n",
    "\n",
    "import tensorflow as tf\n",
    "print(\"Executing eagerly: {}\".format(tf.executing_eagerly()))\n",
    "\n",
    "vpu = XS3VPU(bpe=8)\n",
    "int8min, int8max = vpu._sat_bounds(vpu._single)"
   ]
  },
  {
   "cell_type": "markdown",
   "metadata": {},
   "source": [
    "# Chunk"
   ]
  },
  {
   "cell_type": "markdown",
   "metadata": {},
   "source": [
    "A chunk is an `acc_period` $\\times$ `ve` size submatrix that operates on a single vector of data."
   ]
  },
  {
   "cell_type": "code",
   "execution_count": null,
   "metadata": {},
   "outputs": [],
   "source": [
    "def compute_chunk(vpu, W, x, W_start, W_step, x_start):\n",
    "    vpu.VLDC(x[x_start:x_start+vpu.ve]); rw = W_start\n",
    "    for _ in range(vpu.acc_period):  # unroll in asm\n",
    "        vpu.VLMACCR(W[rw:rw+vpu.ve]); rw += W_step"
   ]
  },
  {
   "cell_type": "code",
   "execution_count": null,
   "metadata": {},
   "outputs": [],
   "source": [
    "vpu = XS3VPU(bpe=8)\n",
    "\n",
    "# generate coefficients and data for test\n",
    "W = np.random.randint(int8min, int8max, size=(vpu.acc_period, vpu.ve), dtype=np.int8)\n",
    "x = np.random.randint(int8min, int8max, size=(vpu.ve,), dtype=np.int8)\n",
    "\n",
    "# reference output\n",
    "y = np.matmul(np.int32(W), np.int32(x))\n",
    "\n",
    "# mimic XS3 layout in memory\n",
    "W_XS3 = np.copy(W.flatten())\n",
    "x_XS3 = np.copy(x)\n",
    "\n",
    "compute_chunk(vpu, W_XS3, x_XS3, W_start=0, W_step=vpu.ve, x_start=0)\n",
    "print(\"Result matches reference: {}\".format(np.all(np.all(vpu._combine_vD_vR() == y))))"
   ]
  },
  {
   "cell_type": "markdown",
   "metadata": {},
   "source": [
    "# Tile"
   ]
  },
  {
   "cell_type": "markdown",
   "metadata": {},
   "source": [
    "A tile is a sequence of chunks producing a single vector of outputs, while operating on continuously layed out data."
   ]
  },
  {
   "cell_type": "code",
   "execution_count": null,
   "metadata": {},
   "outputs": [],
   "source": [
    "def compute_tile(vpu, W, x, N_chunks, W_start, W_step, W_chunk_step, x_start):\n",
    "    rx = x_start; rw = W_start\n",
    "    for _ in range(N_chunks):\n",
    "        compute_chunk(vpu, W, x, W_start=rw, W_step=W_step, x_start=rx)\n",
    "        rx += vpu.ve; rw += W_chunk_step"
   ]
  },
  {
   "cell_type": "code",
   "execution_count": null,
   "metadata": {},
   "outputs": [],
   "source": [
    "vpu = XS3VPU(bpe=8)\n",
    "N_chunks = 3\n",
    "N = vpu.ve * N_chunks\n",
    "\n",
    "# generate coefficients and data for test\n",
    "W = np.random.randint(int8min, int8max, size=(vpu.acc_period, N), dtype=np.int8)\n",
    "x = np.random.randint(int8min, int8max, size=(N,), dtype=np.int8)\n",
    "\n",
    "# reference output\n",
    "y = np.matmul(np.int32(W), np.int32(x))\n",
    "\n",
    "# mimic XS3 layout in memory\n",
    "W_XS3 = np.copy(W.flatten())\n",
    "x_XS3 = np.copy(x)\n",
    "\n",
    "compute_tile(vpu, W_XS3, x_XS3, N_chunks=N_chunks,\n",
    "             W_start=0, W_step=N, W_chunk_step=vpu.ve,\n",
    "             x_start=0)\n",
    "print(\"Result matches reference: {}\".format(np.all(np.all(vpu._combine_vD_vR() == y))))"
   ]
  },
  {
   "cell_type": "markdown",
   "metadata": {},
   "source": [
    "# Band"
   ]
  },
  {
   "cell_type": "markdown",
   "metadata": {},
   "source": [
    "A band is a sequence of tiles producing a single vector of outputs, operating on a sequence of equally spaced continously layed out data vectors."
   ]
  },
  {
   "cell_type": "code",
   "execution_count": null,
   "metadata": {},
   "outputs": [],
   "source": [
    "def compute_band(vpu, W, x, N_chunks, N_tiles, W_start, W_step, W_chunk_step, W_tile_step, x_start, x_tile_step):\n",
    "    rx = x_start; rw = W_start\n",
    "    for _ in range(N_tiles):\n",
    "        compute_tile(vpu, W, x, N_chunks, W_start=rw, W_step=W_step, W_chunk_step=W_chunk_step, x_start=rx)\n",
    "        rx += x_tile_step; rw += W_tile_step"
   ]
  },
  {
   "cell_type": "code",
   "execution_count": null,
   "metadata": {},
   "outputs": [],
   "source": [
    "vpu = XS3VPU(bpe=8)\n",
    "N_chunks, N_tiles = 3, 2\n",
    "N = vpu.ve * N_chunks * N_tiles\n",
    "\n",
    "# generate coefficients and data for test\n",
    "W = np.random.randint(int8min, int8max, size=(vpu.acc_period, N), dtype=np.int8)\n",
    "x = np.random.randint(int8min, int8max, size=(N,), dtype=np.int8)\n",
    "\n",
    "# reference output\n",
    "y = np.matmul(np.int32(W), np.int32(x))\n",
    "\n",
    "# mimic XS3 layout in memory\n",
    "W_XS3 = np.copy(W.flatten())\n",
    "x_XS3 = np.copy(x)\n",
    "\n",
    "compute_band(vpu, W_XS3, x_XS3, N_chunks=N_chunks, N_tiles=N_tiles,\n",
    "             W_start=0, W_step=N, W_chunk_step=vpu.ve, W_tile_step=N_chunks*vpu.ve,\n",
    "             x_start=0, x_tile_step=N_chunks*vpu.ve)\n",
    "print(\"Result matches reference: {}\".format(np.all(np.all(vpu._combine_vD_vR() == y))))"
   ]
  },
  {
   "cell_type": "markdown",
   "metadata": {},
   "source": [
    "# Dense matrix multiplication"
   ]
  },
  {
   "cell_type": "code",
   "execution_count": null,
   "metadata": {},
   "outputs": [],
   "source": [
    "def XS3_matmul(vpu, W, x, y, N_bands, N_chunks):\n",
    "    rw = 0; ry = 0\n",
    "    for _ in range(N_bands):\n",
    "        vpu.VCLRDR()\n",
    "        compute_tile(vpu, W, x, N_chunks,\n",
    "                     W_start=rw, W_step=N_chunks*vpu.ve, W_chunk_step=vpu.ve,\n",
    "                     x_start=0)\n",
    "        y[ry:ry+vpu.acc_period] = vpu._combine_vD_vR()\n",
    "        rw += vpu.acc_period * N_chunks * vpu.ve; ry += vpu.acc_period"
   ]
  },
  {
   "cell_type": "code",
   "execution_count": null,
   "metadata": {},
   "outputs": [],
   "source": [
    "vpu = XS3VPU(bpe=8)\n",
    "N_chunks, N_bands = 3, 2\n",
    "N = N_chunks * vpu.ve\n",
    "M = N_bands * vpu.acc_period\n",
    "\n",
    "# generate coefficients and data\n",
    "W = np.random.randint(int8min, int8max, size=(M, N), dtype=np.int8)\n",
    "x = np.random.randint(int8min, int8max, size=(N,), dtype=np.int8)\n",
    "\n",
    "# reference output\n",
    "y = np.matmul(np.int32(W), np.int32(x))\n",
    "\n",
    "# mimic XS3 layout in memory\n",
    "W_XS3 = np.copy(W.flatten())\n",
    "x_XS3 = np.copy(x)\n",
    "y_XS3 = np.zeros(y.shape, dtype=y.dtype)\n",
    "\n",
    "XS3_matmul(vpu, W_XS3, x_XS3, y_XS3, N_bands, N_chunks)\n",
    "print(\"Output matches reference: {}\".format(np.all(y_XS3 == y)))"
   ]
  },
  {
   "cell_type": "markdown",
   "metadata": {},
   "source": [
    "# 1x1 Convolution"
   ]
  },
  {
   "cell_type": "code",
   "execution_count": null,
   "metadata": {},
   "outputs": [],
   "source": [
    "def XS3_conv2d_1x1(vpu, K, x, y, height, width, C_out_bands, C_in_chunks):\n",
    "    rx = 0; ry = 0;\n",
    "    for _ in range(height * width):\n",
    "        XS3_matmul(vpu, K, x[rx:], y[ry:], C_out_bands, C_in_chunks)\n",
    "        rx += C_in_chunks * vpu.ve\n",
    "        ry += C_out_bands * vpu.acc_period"
   ]
  },
  {
   "cell_type": "code",
   "execution_count": null,
   "metadata": {},
   "outputs": [],
   "source": [
    "vpu = XS3VPU(bpe=8)\n",
    "C_in_chunks, C_out_bands = 2, 3\n",
    "C_in = C_in_chunks * vpu.ve\n",
    "C_out = C_out_bands * vpu.acc_period\n",
    "width = 4\n",
    "height = 6\n",
    "\n",
    "# generate kernels and data\n",
    "K = np.random.randint(int8min, int8max, size=(C_out, C_in), dtype=np.int8)\n",
    "D = np.random.randint(int8min, int8max, size=(height, width, C_in), dtype=np.int8)\n",
    "\n",
    "# convert to tf.float64, because tf.nn.conv2d cannot handle integer tensors\n",
    "D_tf = tf.convert_to_tensor(D, dtype=tf.float64)\n",
    "D_tf = tf.expand_dims(D_tf, axis=0)\n",
    "K_tf = tf.convert_to_tensor(K.T, dtype=tf.float64)\n",
    "K_tf = tf.expand_dims(tf.expand_dims(K_tf, axis=0), axis=0)\n",
    "\n",
    "# reference output\n",
    "Y_tf = tf.nn.conv2d(D_tf, K_tf, strides=1, padding=\"VALID\", data_format='NHWC')\n",
    "Y_tf = tf.cast(Y_tf, tf.int32)\n",
    "Y = Y_tf.numpy()\n",
    "\n",
    "# mimic XS3 layout in memory\n",
    "K_XS3 = np.copy(K.flatten())\n",
    "D_XS3 = np.copy(D.flatten())\n",
    "Y_XS3 = np.zeros((height, width, C_out), dtype=np.int32).flatten()\n",
    "\n",
    "XS3_conv2d_1x1(vpu, K_XS3, D_XS3, Y_XS3, height, width, C_out_bands, C_in_chunks)\n",
    "print(\"Output matches reference: {}\".format(np.all(Y_XS3 == Y.flatten())))"
   ]
  },
  {
   "cell_type": "markdown",
   "metadata": {},
   "source": [
    "# 3x1 Convolution"
   ]
  },
  {
   "cell_type": "code",
   "execution_count": null,
   "metadata": {},
   "outputs": [],
   "source": [
    "def XS3_conv2d(vpu, K, x, y, height, width, K_h, K_w, C_out_bands, C_in_chunks):\n",
    "    rx = 0;# ry = 0;\n",
    "    for hi in range(height - K_h + 1):\n",
    "        for wi in range(width - K_w + 1):\n",
    "            rw = 0;\n",
    "            rx = (hi * width + wi) * C_in_chunks * vpu.ve\n",
    "            ry = (hi * (width - K_w + 1) + wi) * C_out_bands * vpu.acc_period\n",
    "            for _ in range(C_out_bands):\n",
    "                vpu.VCLRDR()\n",
    "                compute_band(vpu, K, x, N_chunks=K_w*C_in_chunks, N_tiles=K_h,\n",
    "                             W_start=rw, W_step=K_h*K_w*C_in_chunks*vpu.ve,\n",
    "                             W_chunk_step=vpu.ve, W_tile_step=K_w*C_in_chunks*vpu.ve,\n",
    "                             x_start=rx, x_tile_step=width*C_in_chunks*vpu.ve)\n",
    "                y[ry:ry+vpu.acc_period] = vpu._combine_vD_vR()\n",
    "                rw += vpu.acc_period * K_h * K_w * C_in_chunks * vpu.ve;\n",
    "                ry += vpu.acc_period"
   ]
  },
  {
   "cell_type": "code",
   "execution_count": null,
   "metadata": {},
   "outputs": [],
   "source": [
    "vpu = XS3VPU(bpe=8)\n",
    "C_in_chunks, C_out_bands = 2, 3\n",
    "C_in = C_in_chunks * vpu.ve\n",
    "C_out = C_out_bands * vpu.acc_period\n",
    "height, width = 7, 5\n",
    "K_h, K_w = 3, 4\n",
    "\n",
    "# generate kernels and data\n",
    "K = np.random.randint(int8min, int8max, size=(C_out, K_h, K_w, C_in), dtype=np.int8)\n",
    "D = np.random.randint(int8min, int8max, size=(height, width, C_in), dtype=np.int8)\n",
    "\n",
    "# convert to tf.float64, because tf.nn.conv2d cannot handle integer tensors\n",
    "D_tf = tf.convert_to_tensor(D, dtype=tf.float64)\n",
    "D_tf = tf.expand_dims(D_tf, axis=0)\n",
    "K_tf = tf.convert_to_tensor(K, dtype=tf.float64)\n",
    "K_tf = tf.transpose(K_tf, perm=[1, 2, 3, 0])\n",
    "\n",
    "# reference output\n",
    "Y_tf = tf.nn.conv2d(D_tf, K_tf, strides=1, padding=\"VALID\", data_format='NHWC')\n",
    "Y_tf = tf.cast(Y_tf, tf.int32)\n",
    "Y = Y_tf.numpy()\n",
    "\n",
    "# mimic XS3 layout in memory\n",
    "K_XS3 = np.copy(K.flatten())\n",
    "D_XS3 = np.copy(D.flatten())\n",
    "Y_XS3 = np.zeros((height - K_h + 1, width - K_w + 1, C_out), dtype=np.int32).flatten()\n",
    "\n",
    "XS3_conv2d(vpu, K_XS3, D_XS3, Y_XS3, height, width, K_h, K_w, C_out_bands, C_in_chunks)\n",
    "print(\"Output matches reference: {}\".format(np.all(Y_XS3 == Y.flatten())))"
   ]
  },
  {
   "cell_type": "code",
   "execution_count": null,
   "metadata": {},
   "outputs": [],
   "source": []
  }
 ],
 "metadata": {
  "kernelspec": {
   "display_name": "Python 3",
   "language": "python",
   "name": "python3"
  },
  "language_info": {
   "codemirror_mode": {
    "name": "ipython",
    "version": 3
   },
   "file_extension": ".py",
   "mimetype": "text/x-python",
   "name": "python",
   "nbconvert_exporter": "python",
   "pygments_lexer": "ipython3",
   "version": "3.6.8rc1"
  }
 },
 "nbformat": 4,
 "nbformat_minor": 2
}
