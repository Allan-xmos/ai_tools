{
 "cells": [
  {
   "cell_type": "code",
   "execution_count": 15,
   "metadata": {},
   "outputs": [],
   "source": [
    "import yaml\n",
    "import lhsmdu\n",
    "import numpy as np\n",
    "from scipy.stats import distributions"
   ]
  },
  {
   "cell_type": "code",
   "execution_count": 16,
   "metadata": {},
   "outputs": [],
   "source": [
    "def make_configs(params, conditions, *, N):\n",
    "    A = lhsmdu.sample(len(params), N)\n",
    "    distros = {\n",
    "        k: distributions.randint(0, len(p_vals))\n",
    "        for k, p_vals in params.items()\n",
    "    }\n",
    "    idx_map = {\n",
    "        key: np.int32(lhsmdu.inverseTransformSample(distros[key], floats)).flatten().tolist()\n",
    "        for floats, key in zip(A, params)\n",
    "    }\n",
    "\n",
    "    configs = []\n",
    "    for b in zip(*idx_map.values()):\n",
    "        d = {k: params[j] for j, (k, params) in zip(b, params.items())}\n",
    "        if conditions(d):\n",
    "            configs.append(d)\n",
    "    return configs"
   ]
  },
  {
   "cell_type": "code",
   "execution_count": 17,
   "metadata": {},
   "outputs": [],
   "source": [
    "noalias_dumper = yaml.dumper.SafeDumper\n",
    "noalias_dumper.ignore_aliases = lambda self, data: True\n",
    "def dump_configs(configs, filename):\n",
    "    with open(filename, \"w\") as f:\n",
    "        f.write(\n",
    "            \"# Copyright (c) 2020, XMOS Ltd, All rights reserved\\n\"\n",
    "            \"# RANDOMLY GENERATED CONFIGS, MODIFY AT OWN RISK\\n\"\n",
    "        )\n",
    "        yaml.dump({\"default\": dict(enumerate(configs))}, stream=f, Dumper=noalias_dumper)"
   ]
  },
  {
   "cell_type": "markdown",
   "metadata": {},
   "source": [
    "# test_conv2d.yml"
   ]
  },
  {
   "cell_type": "code",
   "execution_count": 18,
   "metadata": {},
   "outputs": [],
   "source": [
    "params = dict(\n",
    "    height=[1,4,5,8,12,15],\n",
    "    width=[1,4,7,8,14,20],\n",
    "    K_h=[1,2,3,5,7,9],\n",
    "    K_w=[1,3,4,5,7,9],\n",
    "    input_channels=[4,8,12,16,20,32,36,48],\n",
    "    output_channels=[4,8,12,16,28,32,48,52,64],\n",
    "    padding=[\"same\", \"valid\"],\n",
    "    strides=[(1,1), (1,2), (2,1), (2,2)],\n",
    "    num_threads=[1,2,5],\n",
    ")"
   ]
  },
  {
   "cell_type": "code",
   "execution_count": 19,
   "metadata": {},
   "outputs": [],
   "source": [
    "def conditions(d):\n",
    "    if (d[\"K_w\"] == d[\"K_h\"] == 1 or d[\"K_w\"] * d[\"input_channels\"] <= 32):\n",
    "        return False\n",
    "    if d[\"num_threads\"] > d[\"height\"] or d[\"num_threads\"] > d[\"width\"]:\n",
    "        return False\n",
    "    if d[\"padding\"] == \"valid\":\n",
    "        if d[\"K_w\"] == d[\"width\"] and d[\"K_h\"] == d[\"height\"]:\n",
    "            # this would be single pixel conv2d\n",
    "            return False\n",
    "        return d[\"K_w\"] <= d[\"width\"] and d[\"K_h\"] <= d[\"height\"]\n",
    "    return True"
   ]
  },
  {
   "cell_type": "code",
   "execution_count": 20,
   "metadata": {},
   "outputs": [
    {
     "data": {
      "text/plain": [
       "45"
      ]
     },
     "execution_count": 20,
     "metadata": {},
     "output_type": "execute_result"
    }
   ],
   "source": [
    "configs = make_configs(params, conditions, N=100)\n",
    "len(configs)"
   ]
  },
  {
   "cell_type": "code",
   "execution_count": 21,
   "metadata": {},
   "outputs": [],
   "source": [
    "dump_configs(configs, \"test_conv2d.yml\")"
   ]
  },
  {
   "cell_type": "markdown",
   "metadata": {},
   "source": [
    "# test_custom_relu_conv2d.yml"
   ]
  },
  {
   "cell_type": "code",
   "execution_count": 22,
   "metadata": {},
   "outputs": [],
   "source": [
    "params[\"max_value\"] = [j/2 for j in range(1, 12)]"
   ]
  },
  {
   "cell_type": "code",
   "execution_count": 23,
   "metadata": {},
   "outputs": [
    {
     "data": {
      "text/plain": [
       "19"
      ]
     },
     "execution_count": 23,
     "metadata": {},
     "output_type": "execute_result"
    }
   ],
   "source": [
    "configs = make_configs(params, conditions, N=50)\n",
    "len(configs)"
   ]
  },
  {
   "cell_type": "code",
   "execution_count": 24,
   "metadata": {},
   "outputs": [],
   "source": [
    "dump_configs(configs, \"test_custom_relu_conv2d.yml\")"
   ]
  },
  {
   "cell_type": "markdown",
   "metadata": {},
   "source": [
    "# test_padded_conv2d.yml"
   ]
  },
  {
   "cell_type": "code",
   "execution_count": 25,
   "metadata": {},
   "outputs": [],
   "source": [
    "params = dict(\n",
    "    height=[1,4,5,8,12,15],\n",
    "    width=[1,4,7,8,14,20],\n",
    "    K_h=[1,2,3,5,7,9],\n",
    "    K_w=[1,3,4,5,7,9],\n",
    "    input_channels=[4,8,12,16,20,32,36,48],\n",
    "    output_channels=[4,8,12,16,28,32,48,52,64],\n",
    "    pad_t=[0,1,2],\n",
    "    pad_b=[0,1,2],\n",
    "    pad_l=[0,1,2],\n",
    "    pad_r=[0,1,2],\n",
    "    strides=[(1,1), (1,2), (2,1), (2,2)],\n",
    "    num_threads=[1,2,5],\n",
    ")"
   ]
  },
  {
   "cell_type": "code",
   "execution_count": 26,
   "metadata": {},
   "outputs": [],
   "source": [
    "def conditions(d):\n",
    "    if (d[\"K_w\"] == d[\"K_h\"] == 1 or d[\"K_w\"] * d[\"input_channels\"] <= 32):\n",
    "        return False\n",
    "    if d[\"num_threads\"] > d[\"height\"] or d[\"num_threads\"] > d[\"width\"]:\n",
    "        return False\n",
    "    if d[\"pad_t\"] == d[\"pad_b\"] == d[\"pad_l\"] == d[\"pad_r\"] == 0:\n",
    "        return False\n",
    "    padded_width = d[\"width\"] + d[\"pad_l\"] + d[\"pad_r\"]\n",
    "    padded_height = d[\"height\"] + d[\"pad_t\"] + d[\"pad_b\"]\n",
    "    if d[\"K_w\"] == padded_width and d[\"K_h\"] == padded_height:\n",
    "        # this would be single pixel conv2d\n",
    "        return False\n",
    "    return (\n",
    "        d[\"K_w\"] <= padded_width\n",
    "        and d[\"K_h\"] <= padded_height\n",
    "        and d[\"pad_r\"] < d[\"K_w\"] > d[\"pad_l\"]\n",
    "        and d[\"pad_t\"] < d[\"K_h\"] > d[\"pad_b\"]\n",
    "    )    "
   ]
  },
  {
   "cell_type": "code",
   "execution_count": 27,
   "metadata": {},
   "outputs": [
    {
     "data": {
      "text/plain": [
       "16"
      ]
     },
     "execution_count": 27,
     "metadata": {},
     "output_type": "execute_result"
    }
   ],
   "source": [
    "configs = make_configs(params, conditions, N=70)\n",
    "len(configs)"
   ]
  },
  {
   "cell_type": "code",
   "execution_count": 28,
   "metadata": {},
   "outputs": [],
   "source": [
    "dump_configs(configs, \"test_padded_conv2d.yml\")"
   ]
  },
  {
   "cell_type": "markdown",
   "metadata": {},
   "source": [
    "# test_conv2d_1x1.yml"
   ]
  },
  {
   "cell_type": "code",
   "execution_count": 29,
   "metadata": {},
   "outputs": [],
   "source": [
    "params = dict(\n",
    "    height=[1,4,5,8,12,15],\n",
    "    width=[1,4,7,8,14,20],\n",
    "    input_channels=[4,8,12,16,20,32,36,48],\n",
    "    output_channels=[4,8,12,16,28,32,48,52,64],\n",
    "    num_threads=[1,2,5],\n",
    ")"
   ]
  },
  {
   "cell_type": "code",
   "execution_count": 30,
   "metadata": {},
   "outputs": [],
   "source": [
    "def conditions(d):\n",
    "    if d[\"width\"] == d[\"height\"] == 1:\n",
    "        # this would be single pixel conv2d\n",
    "        return False\n",
    "    return not (d[\"num_threads\"] > d[\"height\"] or d[\"num_threads\"] > d[\"width\"])"
   ]
  },
  {
   "cell_type": "code",
   "execution_count": 31,
   "metadata": {},
   "outputs": [
    {
     "data": {
      "text/plain": [
       "37"
      ]
     },
     "execution_count": 31,
     "metadata": {},
     "output_type": "execute_result"
    }
   ],
   "source": [
    "configs = make_configs(params, conditions, N=55)\n",
    "len(configs)"
   ]
  },
  {
   "cell_type": "code",
   "execution_count": 32,
   "metadata": {},
   "outputs": [],
   "source": [
    "dump_configs(configs, \"test_conv2d_1x1.yml\")"
   ]
  },
  {
   "cell_type": "markdown",
   "metadata": {},
   "source": [
    "# test_conv2d_shallowin.yml"
   ]
  },
  {
   "cell_type": "code",
   "execution_count": 33,
   "metadata": {},
   "outputs": [],
   "source": [
    "params = dict(\n",
    "    height=[1,4,5,8,12,15],\n",
    "    width=[1,4,7,8,14,20],\n",
    "    K_h=[1,2,3,5,7,9],\n",
    "    K_w=[1,2,3,4,5,7,8],\n",
    "    input_channels=[4,8,16,32],\n",
    "    output_channels=[4,8,12,16,28,32,48,52,64],\n",
    "    padding=[\"same\", \"valid\"],\n",
    "    strides=[(1,1), (1,2), (2,1), (2,2)],\n",
    "    num_threads=[1,2,5],\n",
    ")"
   ]
  },
  {
   "cell_type": "code",
   "execution_count": 34,
   "metadata": {},
   "outputs": [],
   "source": [
    "def conditions(d):\n",
    "    if (d[\"K_w\"] == d[\"K_h\"] == 1 or d[\"K_w\"] * d[\"input_channels\"] > 32):\n",
    "        return False\n",
    "    if d[\"num_threads\"] > d[\"height\"] or d[\"num_threads\"] > d[\"width\"]:\n",
    "        return False\n",
    "    if d[\"padding\"] == \"valid\":\n",
    "        if d[\"K_w\"] == d[\"width\"] and d[\"K_h\"] == d[\"height\"]:\n",
    "            # this would be single pixel conv2d\n",
    "            return False\n",
    "        return d[\"K_w\"] <= d[\"width\"] and d[\"K_h\"] <= d[\"height\"]\n",
    "    return True"
   ]
  },
  {
   "cell_type": "code",
   "execution_count": 35,
   "metadata": {},
   "outputs": [
    {
     "data": {
      "text/plain": [
       "52"
      ]
     },
     "execution_count": 35,
     "metadata": {},
     "output_type": "execute_result"
    }
   ],
   "source": [
    "configs = make_configs(params, conditions, N=150)\n",
    "len(configs)"
   ]
  },
  {
   "cell_type": "code",
   "execution_count": 36,
   "metadata": {},
   "outputs": [],
   "source": [
    "dump_configs(configs, \"test_conv2d_shallowin.yml\")"
   ]
  },
  {
   "cell_type": "markdown",
   "metadata": {},
   "source": [
    "# test_padded_conv2d_shallowin.yml"
   ]
  },
  {
   "cell_type": "code",
   "execution_count": 37,
   "metadata": {},
   "outputs": [],
   "source": [
    "params = dict(\n",
    "    height=[1,4,5,8,12,15],\n",
    "    width=[1,4,7,8,14,20],\n",
    "    K_h=[1,2,3,5,7,9],\n",
    "    K_w=[1,2,3,4,5,7,8],\n",
    "    input_channels=[4,8,16,32],\n",
    "    output_channels=[4,8,12,16,28,32,48,52,64],\n",
    "    pad_t=[0,1,2],\n",
    "    pad_b=[0,1,2],\n",
    "    pad_l=[0,1,2],\n",
    "    pad_r=[0,1,2],\n",
    "    strides=[(1,1), (1,2), (2,1), (2,2)],\n",
    "    num_threads=[1,2,5],\n",
    ")"
   ]
  },
  {
   "cell_type": "code",
   "execution_count": 38,
   "metadata": {},
   "outputs": [],
   "source": [
    "def conditions(d):\n",
    "    if (d[\"K_w\"] == d[\"K_h\"] == 1 or d[\"K_w\"] * d[\"input_channels\"] > 32):\n",
    "        return False\n",
    "    if d[\"num_threads\"] > d[\"height\"] or d[\"num_threads\"] > d[\"width\"]:\n",
    "        return False\n",
    "    if d[\"pad_t\"] == d[\"pad_b\"] == d[\"pad_l\"] == d[\"pad_r\"] == 0:\n",
    "        return False\n",
    "    padded_width = d[\"width\"] + d[\"pad_l\"] + d[\"pad_r\"]\n",
    "    padded_height = d[\"height\"] + d[\"pad_t\"] + d[\"pad_b\"]\n",
    "    if d[\"K_w\"] == padded_width and d[\"K_h\"] == padded_height:\n",
    "        # this would be single pixel conv2d\n",
    "        return False\n",
    "    return (\n",
    "        d[\"K_w\"] <= padded_width\n",
    "        and d[\"K_h\"] <= padded_height\n",
    "        and d[\"pad_r\"] < d[\"K_w\"] > d[\"pad_l\"]\n",
    "        and d[\"pad_t\"] < d[\"K_h\"] > d[\"pad_b\"]\n",
    "    )   "
   ]
  },
  {
   "cell_type": "code",
   "execution_count": 39,
   "metadata": {},
   "outputs": [
    {
     "data": {
      "text/plain": [
       "20"
      ]
     },
     "execution_count": 39,
     "metadata": {},
     "output_type": "execute_result"
    }
   ],
   "source": [
    "configs = make_configs(params, conditions, N=150)\n",
    "len(configs)"
   ]
  },
  {
   "cell_type": "code",
   "execution_count": 40,
   "metadata": {},
   "outputs": [],
   "source": [
    "dump_configs(configs, \"test_padded_conv2d_shallowin.yml\")"
   ]
  },
  {
   "cell_type": "markdown",
   "metadata": {},
   "source": [
    "# test_depthwise_conv2d.yml"
   ]
  },
  {
   "cell_type": "code",
   "execution_count": 41,
   "metadata": {},
   "outputs": [],
   "source": [
    "params = dict(\n",
    "    height=[1,4,5,8,12,15],\n",
    "    width=[1,4,7,8,14,20],\n",
    "    K_h=[1,2,3,5,7,9],\n",
    "    K_w=[1,2,3,4,5,7,8],\n",
    "    channels=[4,8,12,16,28,32,48,52,64],\n",
    "    padding=[\"same\", \"valid\"],\n",
    "    strides=[(1,1), (1,2), (2,1), (2,2)],\n",
    "    num_threads=[1,2,5],\n",
    ")"
   ]
  },
  {
   "cell_type": "code",
   "execution_count": 42,
   "metadata": {},
   "outputs": [],
   "source": [
    "def conditions(d):\n",
    "    if d[\"num_threads\"] > d[\"height\"] or d[\"num_threads\"] > d[\"width\"]:\n",
    "        return False\n",
    "    if d[\"padding\"] == \"valid\":\n",
    "        return d[\"K_w\"] <= d[\"width\"] and d[\"K_h\"] <= d[\"height\"]\n",
    "    return True"
   ]
  },
  {
   "cell_type": "code",
   "execution_count": 43,
   "metadata": {},
   "outputs": [
    {
     "data": {
      "text/plain": [
       "41"
      ]
     },
     "execution_count": 43,
     "metadata": {},
     "output_type": "execute_result"
    }
   ],
   "source": [
    "configs = make_configs(params, conditions, N=70)\n",
    "len(configs)"
   ]
  },
  {
   "cell_type": "code",
   "execution_count": 44,
   "metadata": {},
   "outputs": [],
   "source": [
    "dump_configs(configs, \"test_depthwise_conv2d.yml\")"
   ]
  },
  {
   "cell_type": "markdown",
   "metadata": {},
   "source": [
    "# test_padded_depthwise_conv2d.yml"
   ]
  },
  {
   "cell_type": "code",
   "execution_count": 45,
   "metadata": {},
   "outputs": [],
   "source": [
    "params = dict(\n",
    "    height=[1,4,5,8,12,15],\n",
    "    width=[1,4,7,8,14,20],\n",
    "    K_h=[1,2,3,5,7,9],\n",
    "    K_w=[1,2,3,4,5,7,8],\n",
    "    channels=[4,8,12,16,28,32,48,52,64],\n",
    "    pad_t=[0,1,2],\n",
    "    pad_b=[0,1,2],\n",
    "    pad_l=[0,1,2],\n",
    "    pad_r=[0,1,2],\n",
    "    strides=[(1,1), (1,2), (2,1), (2,2)],\n",
    "    num_threads=[1,2,5],\n",
    ")"
   ]
  },
  {
   "cell_type": "code",
   "execution_count": 46,
   "metadata": {},
   "outputs": [],
   "source": [
    "def conditions(d):\n",
    "    if d[\"num_threads\"] > d[\"height\"] or d[\"num_threads\"] > d[\"width\"]:\n",
    "        return False\n",
    "    if d[\"pad_t\"] == d[\"pad_b\"] == d[\"pad_l\"] == d[\"pad_r\"] == 0:\n",
    "        return False\n",
    "    return (\n",
    "        d[\"K_w\"] <= d[\"width\"] + d[\"pad_l\"] + d[\"pad_r\"]\n",
    "        and d[\"K_h\"] <= d[\"height\"] + d[\"pad_t\"] + d[\"pad_b\"]\n",
    "        and d[\"pad_r\"] < d[\"K_w\"] > d[\"pad_l\"]\n",
    "        and d[\"pad_t\"] < d[\"K_h\"] > d[\"pad_b\"]\n",
    "    )"
   ]
  },
  {
   "cell_type": "code",
   "execution_count": 47,
   "metadata": {},
   "outputs": [
    {
     "data": {
      "text/plain": [
       "20"
      ]
     },
     "execution_count": 47,
     "metadata": {},
     "output_type": "execute_result"
    }
   ],
   "source": [
    "configs = make_configs(params, conditions, N=70)\n",
    "len(configs)"
   ]
  },
  {
   "cell_type": "code",
   "execution_count": 48,
   "metadata": {},
   "outputs": [],
   "source": [
    "dump_configs(configs, \"test_padded_depthwise_conv2d.yml\")"
   ]
  },
  {
   "cell_type": "markdown",
   "metadata": {},
   "source": [
    "# test_maxpool2d.yml"
   ]
  },
  {
   "cell_type": "code",
   "execution_count": 49,
   "metadata": {},
   "outputs": [],
   "source": [
    "params = dict(\n",
    "    height=[1,4,5,8,12,15],\n",
    "    width=[1,4,7,8,14,20],\n",
    "    K_h=[1,2,3],\n",
    "    K_w=[1,2,3],\n",
    "    channels=[4,8,12,16,28,32,48,52,64],\n",
    "    padding=[\"valid\"],\n",
    "    strides=[(1,1), (1,2), (2,1), (2,2), (1, 3), (3, 2)],\n",
    "    num_threads=[1,2,5],\n",
    ")"
   ]
  },
  {
   "cell_type": "code",
   "execution_count": 50,
   "metadata": {},
   "outputs": [],
   "source": [
    "def conditions(d):\n",
    "    if d[\"num_threads\"] > d[\"height\"] or d[\"num_threads\"] > d[\"width\"]:\n",
    "        return False\n",
    "    return d[\"K_w\"] <= d[\"width\"] and d[\"K_h\"] <= d[\"height\"]"
   ]
  },
  {
   "cell_type": "code",
   "execution_count": 51,
   "metadata": {},
   "outputs": [
    {
     "data": {
      "text/plain": [
       "39"
      ]
     },
     "execution_count": 51,
     "metadata": {},
     "output_type": "execute_result"
    }
   ],
   "source": [
    "configs = make_configs(params, conditions, N=62)\n",
    "len(configs)"
   ]
  },
  {
   "cell_type": "code",
   "execution_count": 52,
   "metadata": {},
   "outputs": [],
   "source": [
    "dump_configs(configs, \"test_maxpool2d.yml\")"
   ]
  },
  {
   "cell_type": "markdown",
   "metadata": {},
   "source": [
    "# test_avgpool2d.yml"
   ]
  },
  {
   "cell_type": "code",
   "execution_count": 53,
   "metadata": {},
   "outputs": [
    {
     "data": {
      "text/plain": [
       "40"
      ]
     },
     "execution_count": 53,
     "metadata": {},
     "output_type": "execute_result"
    }
   ],
   "source": [
    "configs = make_configs(params, conditions, N=62)\n",
    "len(configs)"
   ]
  },
  {
   "cell_type": "code",
   "execution_count": 54,
   "metadata": {},
   "outputs": [],
   "source": [
    "dump_configs(configs, \"test_avgpool2d.yml\")"
   ]
  },
  {
   "cell_type": "markdown",
   "metadata": {},
   "source": [
    "# test_global_avgpool2d.yml"
   ]
  },
  {
   "cell_type": "code",
   "execution_count": 55,
   "metadata": {},
   "outputs": [],
   "source": [
    "params = dict(\n",
    "    height=[1,4,5,8,12,15],\n",
    "    width=[1,4,7,8,14,20],\n",
    "    channels=[4,8,12,16,28,32,48,52,64],\n",
    "    num_threads=[1,2,5],\n",
    ")"
   ]
  },
  {
   "cell_type": "code",
   "execution_count": 56,
   "metadata": {},
   "outputs": [],
   "source": [
    "def conditions(d):\n",
    "    return not (\n",
    "        d[\"num_threads\"] > d[\"height\"] or d[\"num_threads\"] > d[\"width\"]\n",
    "    )"
   ]
  },
  {
   "cell_type": "code",
   "execution_count": 57,
   "metadata": {},
   "outputs": [
    {
     "data": {
      "text/plain": [
       "38"
      ]
     },
     "execution_count": 57,
     "metadata": {},
     "output_type": "execute_result"
    }
   ],
   "source": [
    "configs = make_configs(params, conditions, N=55)\n",
    "len(configs)"
   ]
  },
  {
   "cell_type": "code",
   "execution_count": 58,
   "metadata": {},
   "outputs": [],
   "source": [
    "dump_configs(configs, \"test_global_avgpool2d.yml\")"
   ]
  },
  {
   "cell_type": "markdown",
   "metadata": {},
   "source": [
    "# Activations"
   ]
  },
  {
   "cell_type": "code",
   "execution_count": 59,
   "metadata": {},
   "outputs": [],
   "source": [
    "params = dict(\n",
    "    height=[1,4,5,8,12,15],\n",
    "    width=[1,4,7,8,14,20],\n",
    "    channels=[1,4,7,12,16,25,32,49],\n",
    "    num_threads=[1,2,5],\n",
    ")"
   ]
  },
  {
   "cell_type": "code",
   "execution_count": 60,
   "metadata": {},
   "outputs": [
    {
     "name": "stdout",
     "output_type": "stream",
     "text": [
      "test_relu.yml 40\n",
      "test_relu6.yml 40\n",
      "test_sigmoid.yml 40\n",
      "test_tanh.yml 40\n"
     ]
    }
   ],
   "source": [
    "for file in [\"test_relu.yml\", \"test_relu6.yml\", \"test_sigmoid.yml\", \"test_tanh.yml\"]:\n",
    "    configs = make_configs(params, conditions=lambda _: True, N=40)\n",
    "    print(file, len(configs))\n",
    "    dump_configs(configs, file)"
   ]
  },
  {
   "cell_type": "markdown",
   "metadata": {},
   "source": [
    "# test_fully_connected.yml"
   ]
  },
  {
   "cell_type": "code",
   "execution_count": 61,
   "metadata": {},
   "outputs": [],
   "source": [
    "params = dict(\n",
    "    height=[1,4,5,8,12,15],\n",
    "    width=[1,4,7,8,14,20],\n",
    "    channels=[1,4,7,12,16,25,32,49],\n",
    "    outputs=[1,4,7,12,16,25,32,49],\n",
    "    num_threads=[1,2,5],\n",
    ")"
   ]
  },
  {
   "cell_type": "code",
   "execution_count": 62,
   "metadata": {},
   "outputs": [
    {
     "data": {
      "text/plain": [
       "40"
      ]
     },
     "execution_count": 62,
     "metadata": {},
     "output_type": "execute_result"
    }
   ],
   "source": [
    "configs = make_configs(params, conditions=lambda _: True, N=40)\n",
    "len(configs)"
   ]
  },
  {
   "cell_type": "code",
   "execution_count": 63,
   "metadata": {},
   "outputs": [],
   "source": [
    "dump_configs(configs, \"test_fully_connected.yml\")"
   ]
  },
  {
   "cell_type": "markdown",
   "metadata": {},
   "source": [
    "# test_single_pixel_conv2d.yml"
   ]
  },
  {
   "cell_type": "code",
   "execution_count": 64,
   "metadata": {},
   "outputs": [],
   "source": [
    "params = dict(\n",
    "    K_h=[1,2,4,5,8,12,15],\n",
    "    K_w=[1,3,4,7,9,14,20],\n",
    "    input_channels=[1,4,7,12,16,25,32,49],\n",
    "    output_channels=[1,4,7,12,16,25,32,49],\n",
    "    num_threads=[1,2,5],\n",
    ")"
   ]
  },
  {
   "cell_type": "code",
   "execution_count": 65,
   "metadata": {},
   "outputs": [
    {
     "data": {
      "text/plain": [
       "20"
      ]
     },
     "execution_count": 65,
     "metadata": {},
     "output_type": "execute_result"
    }
   ],
   "source": [
    "configs = make_configs(params, conditions=lambda _: True, N=20)\n",
    "len(configs)"
   ]
  },
  {
   "cell_type": "code",
   "execution_count": 66,
   "metadata": {},
   "outputs": [],
   "source": [
    "dump_configs(configs, \"test_single_pixel_conv2d.yml\")"
   ]
  },
  {
   "cell_type": "markdown",
   "metadata": {},
   "source": [
    "# test_bsign.yml"
   ]
  },
  {
   "cell_type": "code",
   "execution_count": 67,
   "metadata": {},
   "outputs": [],
   "source": [
    "params = dict(\n",
    "    height=[1,4,5,8],\n",
    "    width=[1,4,7,8],\n",
    "    input_channels=[i*32 for i in (1,4,7)],\n",
    "    num_threads=[1,2,5],\n",
    ")"
   ]
  },
  {
   "cell_type": "code",
   "execution_count": 68,
   "metadata": {},
   "outputs": [
    {
     "data": {
      "text/plain": [
       "20"
      ]
     },
     "execution_count": 68,
     "metadata": {},
     "output_type": "execute_result"
    }
   ],
   "source": [
    "configs = make_configs(params, conditions=lambda _: True, N=20)\n",
    "len(configs)"
   ]
  },
  {
   "cell_type": "code",
   "execution_count": 69,
   "metadata": {},
   "outputs": [],
   "source": [
    "dump_configs(configs, \"test_bsign.yml\")"
   ]
  },
  {
   "cell_type": "markdown",
   "metadata": {},
   "source": [
    "# test_bconv2d_bin_DI.yml"
   ]
  },
  {
   "cell_type": "code",
   "execution_count": 70,
   "metadata": {},
   "outputs": [],
   "source": [
    "params = dict(\n",
    "    height=[7, 10, 12],\n",
    "    width=[6, 8, 11],\n",
    "    K_h=[1,2,3,6],\n",
    "    K_w=[1,3,4,5],\n",
    "    input_channels=[256,512],\n",
    "    output_channels=[32, 64],\n",
    "    strides=[(1,1), (1,2), (2,1), (2,2)],\n",
    "    num_threads=[1,2,5],\n",
    ")"
   ]
  },
  {
   "cell_type": "code",
   "execution_count": 71,
   "metadata": {},
   "outputs": [
    {
     "data": {
      "text/plain": [
       "20"
      ]
     },
     "execution_count": 71,
     "metadata": {},
     "output_type": "execute_result"
    }
   ],
   "source": [
    "configs = make_configs(params, conditions=lambda _: True, N=20)\n",
    "len(configs)"
   ]
  },
  {
   "cell_type": "code",
   "execution_count": 72,
   "metadata": {},
   "outputs": [],
   "source": [
    "dump_configs(configs, \"test_bconv2d_bin_DI.yml\")"
   ]
  },
  {
   "cell_type": "markdown",
   "metadata": {},
   "source": [
    "# test_bconv2d_bin_DI_padded.yml"
   ]
  },
  {
   "cell_type": "code",
   "execution_count": 73,
   "metadata": {},
   "outputs": [],
   "source": [
    "params = dict(\n",
    "    height=[7, 10, 12],\n",
    "    width=[6, 8, 11],\n",
    "    K_h=[2,3,6],\n",
    "    K_w=[3,4,5],\n",
    "    input_channels=[256,512],\n",
    "    output_channels=[32, 64],\n",
    "    padding=[\"same\"],\n",
    "    strides=[(1,1), (1,2), (2,1), (2,2)],\n",
    "    num_threads=[1,2,5],\n",
    ")"
   ]
  },
  {
   "cell_type": "code",
   "execution_count": 74,
   "metadata": {},
   "outputs": [
    {
     "data": {
      "text/plain": [
       "20"
      ]
     },
     "execution_count": 74,
     "metadata": {},
     "output_type": "execute_result"
    }
   ],
   "source": [
    "configs = make_configs(params, conditions=lambda _: True, N=20)\n",
    "len(configs)"
   ]
  },
  {
   "cell_type": "code",
   "execution_count": 75,
   "metadata": {},
   "outputs": [],
   "source": [
    "dump_configs(configs, \"test_bconv2d_bin_DI_padded.yml\")"
   ]
  },
  {
   "cell_type": "markdown",
   "metadata": {},
   "source": [
    "# test_bconv2d_bin.yml"
   ]
  },
  {
   "cell_type": "code",
   "execution_count": 76,
   "metadata": {},
   "outputs": [],
   "source": [
    "params = dict(\n",
    "    height=[7, 10, 12],\n",
    "    width=[6, 8, 11],\n",
    "    K_h=[1,2,3,6],\n",
    "    K_w=[1,3,4,5],\n",
    "    input_channels=[32, 128],\n",
    "    output_channels=[32, 64],\n",
    "    strides=[(1,1), (1,2), (2,1), (2,2)],\n",
    "    num_threads=[1,2,5],\n",
    ")"
   ]
  },
  {
   "cell_type": "code",
   "execution_count": 77,
   "metadata": {},
   "outputs": [
    {
     "data": {
      "text/plain": [
       "20"
      ]
     },
     "execution_count": 77,
     "metadata": {},
     "output_type": "execute_result"
    }
   ],
   "source": [
    "configs = make_configs(params, conditions=lambda _: True, N=20)\n",
    "len(configs)"
   ]
  },
  {
   "cell_type": "code",
   "execution_count": 78,
   "metadata": {},
   "outputs": [],
   "source": [
    "dump_configs(configs, \"test_bconv2d_bin.yml\")"
   ]
  },
  {
   "cell_type": "markdown",
   "metadata": {},
   "source": [
    "# test_bconv2d_bin_padded.yml"
   ]
  },
  {
   "cell_type": "code",
   "execution_count": 79,
   "metadata": {},
   "outputs": [],
   "source": [
    "params = dict(\n",
    "    height=[7, 10, 12],\n",
    "    width=[6, 8, 11],\n",
    "    K_h=[1,2,3,6],\n",
    "    K_w=[1,3,4,5],\n",
    "    input_channels=[32, 128],\n",
    "    output_channels=[32, 64],\n",
    "    padding=[\"same\"],\n",
    "    strides=[(1,1), (1,2), (2,1), (2,2)],\n",
    "    num_threads=[1,2,5],\n",
    ")"
   ]
  },
  {
   "cell_type": "code",
   "execution_count": 80,
   "metadata": {},
   "outputs": [
    {
     "data": {
      "text/plain": [
       "20"
      ]
     },
     "execution_count": 80,
     "metadata": {},
     "output_type": "execute_result"
    }
   ],
   "source": [
    "configs = make_configs(params, conditions=lambda _: True, N=20)\n",
    "len(configs)"
   ]
  },
  {
   "cell_type": "code",
   "execution_count": 81,
   "metadata": {},
   "outputs": [],
   "source": [
    "dump_configs(configs, \"test_bconv2d_bin_padded.yml\")"
   ]
  },
  {
   "cell_type": "markdown",
   "metadata": {},
   "source": [
    "# test_pad.yml"
   ]
  },
  {
   "cell_type": "code",
   "execution_count": 82,
   "metadata": {},
   "outputs": [],
   "source": [
    "params = dict(\n",
    "    height=[1,4,5,8,12,15],\n",
    "    width=[1,4,7,8,14,20],\n",
    "    channels=[4,8,12,16,28,32,48,52,64],\n",
    "    pad_t=[0,1,2],\n",
    "    pad_b=[0,1,2],\n",
    "    pad_l=[0,1,2],\n",
    "    pad_r=[0,1,2],\n",
    ")"
   ]
  },
  {
   "cell_type": "code",
   "execution_count": 83,
   "metadata": {},
   "outputs": [],
   "source": [
    "def conditions(d):\n",
    "    return sum(params[\"pad_\" + k] for k in \"tblr\")"
   ]
  },
  {
   "cell_type": "code",
   "execution_count": 84,
   "metadata": {},
   "outputs": [
    {
     "data": {
      "text/plain": [
       "20"
      ]
     },
     "execution_count": 84,
     "metadata": {},
     "output_type": "execute_result"
    }
   ],
   "source": [
    "configs = make_configs(params, conditions=lambda _: True, N=20)\n",
    "len(configs)"
   ]
  },
  {
   "cell_type": "code",
   "execution_count": 85,
   "metadata": {},
   "outputs": [],
   "source": [
    "dump_configs(configs, \"test_pad.yml\")"
   ]
  },
  {
   "cell_type": "markdown",
   "metadata": {},
   "source": [
    "# test_bconv2d_int8_DIDO.yml"
   ]
  },
  {
   "cell_type": "code",
   "execution_count": 86,
   "metadata": {},
   "outputs": [],
   "source": [
    "params = dict(\n",
    "    height=[7, 10, 12],\n",
    "    width=[6, 8, 11],\n",
    "    K_h=[1,2,3,6],\n",
    "    K_w=[1,3,4,5],\n",
    "    input_channels=[256,512],\n",
    "    output_channels=[16, 48],\n",
    "    strides=[(1,1), (1,2), (2,1), (2,2)],\n",
    "    output_range = [(range_min, range_max) for range_min in range(-4, 1, 2) for range_max in range(1, 6, 2)],\n",
    "    num_threads=[1,2,5],\n",
    ")"
   ]
  },
  {
   "cell_type": "code",
   "execution_count": 87,
   "metadata": {},
   "outputs": [
    {
     "data": {
      "text/plain": [
       "20"
      ]
     },
     "execution_count": 87,
     "metadata": {},
     "output_type": "execute_result"
    }
   ],
   "source": [
    "configs = make_configs(params, conditions=lambda _: True, N=20)\n",
    "len(configs)"
   ]
  },
  {
   "cell_type": "code",
   "execution_count": 88,
   "metadata": {},
   "outputs": [],
   "source": [
    "dump_configs(configs, \"test_bconv2d_int8_DIDO.yml\")"
   ]
  },
  {
   "cell_type": "markdown",
   "metadata": {},
   "source": [
    "# test_bconv2d_int8.yml"
   ]
  },
  {
   "cell_type": "code",
   "execution_count": 89,
   "metadata": {},
   "outputs": [],
   "source": [
    "params = dict(\n",
    "    height=[7, 10, 12],\n",
    "    width=[6, 8, 11],\n",
    "    K_h=[1,2,3,6],\n",
    "    K_w=[1,3,4,5],\n",
    "    input_channels=[32, 128, 256+64],\n",
    "    output_channels=[4, 28, 32],\n",
    "    strides=[(1,1), (1,2), (2,1), (2,2)],\n",
    "    output_range = [(range_min, range_max) for range_min in range(-4, 1, 2) for range_max in range(1, 6, 2)],\n",
    "    num_threads=[1,2,5],\n",
    ")"
   ]
  },
  {
   "cell_type": "code",
   "execution_count": 90,
   "metadata": {
    "scrolled": true
   },
   "outputs": [
    {
     "data": {
      "text/plain": [
       "20"
      ]
     },
     "execution_count": 90,
     "metadata": {},
     "output_type": "execute_result"
    }
   ],
   "source": [
    "configs = make_configs(params, conditions=lambda _: True, N=20)\n",
    "len(configs)"
   ]
  },
  {
   "cell_type": "code",
   "execution_count": 91,
   "metadata": {},
   "outputs": [],
   "source": [
    "dump_configs(configs, \"test_bconv2d_int8.yml\")"
   ]
  },
  {
   "cell_type": "markdown",
   "metadata": {},
   "source": [
    "# test_bconv2d_int8_DIDO_padded.yml"
   ]
  },
  {
   "cell_type": "code",
   "execution_count": 92,
   "metadata": {},
   "outputs": [],
   "source": [
    "params = dict(\n",
    "    height=[7, 10, 12],\n",
    "    width=[6, 8, 11],\n",
    "    K_h=[1,2,3,6],\n",
    "    K_w=[1,3,4,5],\n",
    "    input_channels=[256,512],\n",
    "    output_channels=[16, 48],\n",
    "    strides=[(1,1), (1,2), (2,1), (2,2)],\n",
    "    padding=[\"same\"],\n",
    "    output_range = [(range_min, range_max) for range_min in range(-4, 1, 2) for range_max in range(1, 6, 2)]\n",
    "#     num_threads=[1,2,5],\n",
    ")"
   ]
  },
  {
   "cell_type": "code",
   "execution_count": 93,
   "metadata": {},
   "outputs": [
    {
     "data": {
      "text/plain": [
       "20"
      ]
     },
     "execution_count": 93,
     "metadata": {},
     "output_type": "execute_result"
    }
   ],
   "source": [
    "configs = make_configs(params, conditions=lambda _: True, N=20)\n",
    "len(configs)"
   ]
  },
  {
   "cell_type": "code",
   "execution_count": 94,
   "metadata": {},
   "outputs": [],
   "source": [
    "dump_configs(configs, \"test_bconv2d_int8_DIDO_padded.yml\")"
   ]
  },
  {
   "cell_type": "markdown",
   "metadata": {},
   "source": [
    "# test_bconv2d_int8_padded.yml"
   ]
  },
  {
   "cell_type": "code",
   "execution_count": 95,
   "metadata": {},
   "outputs": [],
   "source": [
    "params = dict(\n",
    "    height=[7, 10, 12],\n",
    "    width=[6, 8, 11],\n",
    "    K_h=[1,2,3,6],\n",
    "    K_w=[1,3,4,5],\n",
    "    input_channels=[32, 128, 256+64],\n",
    "    output_channels=[4, 28, 32],\n",
    "    strides=[(1,1), (1,2), (2,1), (2,2)],\n",
    "    padding=[\"same\"],\n",
    "    output_range = [(range_min, range_max) for range_min in range(-4, 1, 2) for range_max in range(1, 6, 2)],\n",
    "    num_threads=[1,2,5],\n",
    ")"
   ]
  },
  {
   "cell_type": "code",
   "execution_count": 96,
   "metadata": {},
   "outputs": [
    {
     "data": {
      "text/plain": [
       "20"
      ]
     },
     "execution_count": 96,
     "metadata": {},
     "output_type": "execute_result"
    }
   ],
   "source": [
    "configs = make_configs(params, conditions=lambda _: True, N=20)\n",
    "len(configs)"
   ]
  },
  {
   "cell_type": "code",
   "execution_count": 97,
   "metadata": {},
   "outputs": [],
   "source": [
    "dump_configs(configs, \"test_bconv2d_int8_padded.yml\")"
   ]
  },
  {
   "cell_type": "markdown",
   "metadata": {},
   "source": [
    "# test_bconv2d_int8_activation.yml"
   ]
  },
  {
   "cell_type": "code",
   "execution_count": 98,
   "metadata": {},
   "outputs": [],
   "source": [
    "params = dict(\n",
    "    height=[7, 10, 12],\n",
    "    width=[6, 8, 11],\n",
    "    K_h=[1,2,3,6],\n",
    "    K_w=[1,3,4,5],\n",
    "    input_channels=[32, 128, 256+64],\n",
    "    output_channels=[4, 28, 32],\n",
    "    strides=[(1,1), (1,2), (2,1), (2,2)],\n",
    "    output_range = [(range_min, range_max) for range_min in range(-4, 1, 2) for range_max in range(1, 6, 2)],\n",
    "    activation = [\"relu\", \"relu6\"],\n",
    "    num_threads=[1,2,5],\n",
    ")"
   ]
  },
  {
   "cell_type": "code",
   "execution_count": 99,
   "metadata": {},
   "outputs": [
    {
     "data": {
      "text/plain": [
       "20"
      ]
     },
     "execution_count": 99,
     "metadata": {},
     "output_type": "execute_result"
    }
   ],
   "source": [
    "configs = make_configs(params, conditions=lambda _: True, N=20)\n",
    "len(configs)"
   ]
  },
  {
   "cell_type": "code",
   "execution_count": 100,
   "metadata": {},
   "outputs": [],
   "source": [
    "dump_configs(configs, \"test_bconv2d_int8_activation.yml\")"
   ]
  },
  {
   "cell_type": "markdown",
   "metadata": {},
   "source": [
    "# test_bconv2d_int8_DIDO_activation.yml"
   ]
  },
  {
   "cell_type": "code",
   "execution_count": 101,
   "metadata": {},
   "outputs": [],
   "source": [
    "params = dict(\n",
    "    height=[7, 10, 12],\n",
    "    width=[6, 8, 11],\n",
    "    K_h=[1,2,3,6],\n",
    "    K_w=[1,3,4,5],\n",
    "    input_channels=[256,512],\n",
    "    output_channels=[16, 48],\n",
    "    strides=[(1,1), (1,2), (2,1), (2,2)],\n",
    "    output_range = [(range_min, range_max) for range_min in range(-4, 1, 2) for range_max in range(1, 6, 2)],\n",
    "    activation = [\"relu\", \"relu6\"],\n",
    "    num_threads=[1,2,5],\n",
    ")"
   ]
  },
  {
   "cell_type": "code",
   "execution_count": 102,
   "metadata": {},
   "outputs": [
    {
     "data": {
      "text/plain": [
       "20"
      ]
     },
     "execution_count": 102,
     "metadata": {},
     "output_type": "execute_result"
    }
   ],
   "source": [
    "configs = make_configs(params, conditions=lambda _: True, N=20)\n",
    "len(configs)"
   ]
  },
  {
   "cell_type": "code",
   "execution_count": 103,
   "metadata": {},
   "outputs": [],
   "source": [
    "dump_configs(configs, \"test_bconv2d_int8_DIDO_activation.yml\")"
   ]
  },
  {
   "cell_type": "markdown",
   "metadata": {},
   "source": [
    "# test_add.yml"
   ]
  },
  {
   "cell_type": "code",
   "execution_count": 104,
   "metadata": {},
   "outputs": [],
   "source": [
    "params = dict(\n",
    "    height=[1,3,5,8,13,15],\n",
    "    width=[1,5,6,7,9,11],\n",
    "    channels=[4,11,13,51,53,64],\n",
    "    num_threads=[1,2,5],\n",
    ")"
   ]
  },
  {
   "cell_type": "code",
   "execution_count": 105,
   "metadata": {},
   "outputs": [
    {
     "data": {
      "text/plain": [
       "20"
      ]
     },
     "execution_count": 105,
     "metadata": {},
     "output_type": "execute_result"
    }
   ],
   "source": [
    "configs = make_configs(params, conditions=lambda _: True, N=20)\n",
    "len(configs)"
   ]
  },
  {
   "cell_type": "code",
   "execution_count": 106,
   "metadata": {},
   "outputs": [],
   "source": [
    "dump_configs(configs, \"test_add.yml\")"
   ]
  },
  {
   "cell_type": "code",
   "execution_count": 107,
   "metadata": {},
   "outputs": [],
   "source": [
    "# test_strided_slice.yml"
   ]
  },
  {
   "cell_type": "code",
   "execution_count": 111,
   "metadata": {},
   "outputs": [],
   "source": [
    "params = dict(\n",
    "    height=[1,4,5,8,12,15],\n",
    "    width=[4,7,8,14,20],\n",
    "    channels=[4,8,12,16,20,32,36,48],\n",
    ")"
   ]
  },
  {
   "cell_type": "code",
   "execution_count": 112,
   "metadata": {},
   "outputs": [],
   "source": [
    "def conditions(d):\n",
    "    return True"
   ]
  },
  {
   "cell_type": "code",
   "execution_count": 113,
   "metadata": {},
   "outputs": [
    {
     "data": {
      "text/plain": [
       "100"
      ]
     },
     "execution_count": 113,
     "metadata": {},
     "output_type": "execute_result"
    }
   ],
   "source": [
    "configs = make_configs(params, conditions, N=100)\n",
    "len(configs)"
   ]
  },
  {
   "cell_type": "code",
   "execution_count": null,
   "metadata": {},
   "outputs": [],
   "source": [
    "dump_configs(configs, \"test_strided_slice.yml\")"
   ]
  }
 ],
 "metadata": {
  "kernelspec": {
   "display_name": "Python 3",
   "language": "python",
   "name": "python3"
  },
  "language_info": {
   "codemirror_mode": {
    "name": "ipython",
    "version": 3
   },
   "file_extension": ".py",
   "mimetype": "text/x-python",
   "name": "python",
   "nbconvert_exporter": "python",
   "pygments_lexer": "ipython3",
   "version": "3.8.12"
  }
 },
 "nbformat": 4,
 "nbformat_minor": 2
}
