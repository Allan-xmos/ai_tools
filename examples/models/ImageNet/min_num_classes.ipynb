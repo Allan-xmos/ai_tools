{
 "nbformat": 4,
 "nbformat_minor": 2,
 "metadata": {
  "language_info": {
   "name": "python",
   "codemirror_mode": {
    "name": "ipython",
    "version": 3
   },
   "version": "3.6.8-final"
  },
  "orig_nbformat": 2,
  "file_extension": ".py",
  "mimetype": "text/x-python",
  "name": "python",
  "npconvert_exporter": "python",
  "pygments_lexer": "ipython3",
  "version": 3,
  "kernelspec": {
   "name": "python3",
   "display_name": "Python 3"
  }
 },
 "cells": [
  {
   "cell_type": "markdown",
   "execution_count": null,
   "metadata": {},
   "outputs": [],
   "source": [
    "# Full forward pass & decode with Mobilenet + ImageNet"
   ]
  },
  {
   "cell_type": "markdown",
   "execution_count": null,
   "metadata": {},
   "outputs": [],
   "source": [
    "## 1.- Imports"
   ]
  },
  {
   "cell_type": "code",
   "execution_count": null,
   "metadata": {},
   "outputs": [],
   "source": [
    "import numpy as np\n",
    "import tensorflow_datasets as tfds\n",
    "import tensorflow as tf\n",
    "from matplotlib import pyplot as plt\n",
    "from generate_mobilenet import Mobilenet\n",
    "import pathlib\n",
    "from tensorflow.python.keras import backend\n",
    "from tensorflow.python.keras.utils import all_utils as keras_utils\n",
    "import json\n",
    "from mpl_toolkits.axes_grid1 import AxesGrid"
   ]
  },
  {
   "cell_type": "code",
   "execution_count": null,
   "metadata": {},
   "outputs": [],
   "source": [
    "def plot_subplots(**kwargs):\n",
    "    '''\n",
    "    Function to plot several imagenes easily.\n",
    "    kwargs:\n",
    "    - dims: dimension of the subplots\n",
    "    - imgs: list of images to plot\n",
    "    '''\n",
    "    with plt.style.context(\"dark_background\"):\n",
    "        fig = plt.figure(figsize=(6, 4))\n",
    "        grid = AxesGrid(fig, 111,\n",
    "                        nrows_ncols=kwargs['dims'],\n",
    "                        axes_pad=0.05,\n",
    "                        cbar_mode='single',\n",
    "                        cbar_location='right',\n",
    "                        cbar_pad=0.1\n",
    "                        )\n",
    "        for i, ax in enumerate(grid):\n",
    "            ax.set_axis_off()\n",
    "            im = ax.imshow(kwargs['imgs'][i], vmin=0, vmax=1)\n",
    "        cbar = ax.cax.colorbar(im)\n",
    "        cbar = grid.cbar_axes[0].colorbar(im)\n",
    "        cbar.ax.set_yticks(np.arange(0, 1.1, 0.5))\n",
    "        cbar.ax.set_yticklabels(['low', 'medium', 'high'])\n",
    "        plt.show()\n",
    "        plt.close(fig)"
   ]
  },
  {
   "cell_type": "markdown",
   "execution_count": null,
   "metadata": {},
   "outputs": [],
   "source": [
    "## 2.- Model instantiation"
   ]
  },
  {
   "cell_type": "code",
   "execution_count": null,
   "metadata": {},
   "outputs": [],
   "source": [
    "path = pathlib.Path('.').parent.joinpath('debug', 'notebooks').resolve()\n",
    "mobilenet = Mobilenet('MobileNet', path)"
   ]
  },
  {
   "cell_type": "markdown",
   "execution_count": null,
   "metadata": {},
   "outputs": [],
   "source": [
    "## 3.- ImageNet labels"
   ]
  },
  {
   "cell_type": "code",
   "execution_count": null,
   "metadata": {},
   "outputs": [],
   "source": [
    "def get_imagenet_labels(last, num_classes=100):\n",
    "    labels_path = tf.keras.utils.get_file(\n",
    "        'ImageNetLabels.txt',\n",
    "        'https://storage.googleapis.com/download.tensorflow.org/data/ImageNetLabels.txt')\n",
    "    imagenet_labels = np.array(open(labels_path).read().splitlines())\n",
    "    # print('total # of labels: ', len(imagenet_labels))\n",
    "    first_100 = imagenet_labels[-num_classes:]\n",
    "    last_100 = imagenet_labels[:num_classes]\n",
    "    imagenet_labels = last_100 if last else first_100\n",
    "    # print('After prunning: ', imagenet_labels.shape)\n",
    "    #print(f'''\n",
    "    #Labels in partition:\n",
    "    #\\t- pizza: {'pizza' in imagenet_labels}\n",
    "    #\\t- scuba diver: {'scuba diver' in imagenet_labels}\n",
    "    #\\t- military uniform: {'military uniform' in imagenet_labels}\n",
    "    #\\t- dog: {'dog' in imagenet_labels}\n",
    "    #\\t- goldfish: {'goldfish' in imagenet_labels}\n",
    "    #\\t- salamander: {'spotted salamander' in imagenet_labels}\n",
    "    #''')\n",
    "    #print(imagenet_labels)\n",
    "    return imagenet_labels\n",
    "\n",
    "k = get_imagenet_labels(True)\n",
    "k[2]"
   ]
  },
  {
   "cell_type": "markdown",
   "execution_count": null,
   "metadata": {},
   "outputs": [],
   "source": [
    "## 4.- Example image and preprocess\n",
    "The two links provided are from TensorFlow and Wikipedia\n",
    "![TensorFlow][https://storage.googleapis.com/download.tensorflow.org/example_images/grace_hopper.jpg]\n",
    "![Wikipedia][https://upload.wikimedia.org/wikipedia/commons/thumb/9/97/Dog_for_Senior_Dog_Food_Diet_Wikipedia_Page.jpg/1200px-Dog_for_Senior_Dog_Food_Diet_Wikipedia_Page.jpg]"
   ]
  },
  {
   "cell_type": "code",
   "execution_count": null,
   "metadata": {},
   "outputs": [],
   "source": [
    "def preprocess_url(url, name):\n",
    "    f = tf.keras.utils.get_file(name, url)\n",
    "    img = tf.keras.preprocessing.image.load_img(f, target_size=[159, 159])\n",
    "    img = tf.keras.preprocessing.image.img_to_array(img)\n",
    "    x = tf.keras.applications.mobilenet.preprocess_input(img)\n",
    "    x = (x-np.min(x))/(np.max(x)-np.min(x))\n",
    "    return x[tf.newaxis,...]\n",
    "\n",
    "def download_example_imgs():\n",
    "    goldfish_url = 'https://i.ytimg.com/vi/DSDUCxvb7R4/hqdefault.jpg'\n",
    "    pizza_url = 'https://upload.wikimedia.org/wikipedia/commons/2/2d/Punch_Neapolitan_Pizza_Margherita.jpg'\n",
    "    scuba_diver_url = 'https://fthmb.tqn.com/VHeLk32zZhv3Kp70RBinGvF_dmM=/3920x2160/filters:fill(auto,1)/GettyImages-597572085-584819855f9b5851e593fd0b.jpg'\n",
    "    hopper_url = \"https://storage.googleapis.com/download.tensorflow.org/example_images/grace_hopper.jpg\"\n",
    "    salamander1_url = 'https://upload.wikimedia.org/wikipedia/commons/6/6a/Blue-spotted_salamander_(Ambystoma_laterale).jpg'\n",
    "    dog_url = 'https://upload.wikimedia.org/wikipedia/commons/thumb/9/97/Dog_for_Senior_Dog_Food_Diet_Wikipedia_Page.jpg/1200px-Dog_for_Senior_Dog_Food_Diet_Wikipedia_Page.jpg'\n",
    "\n",
    "    goldfish = preprocess_url(goldfish_url, 'fish')\n",
    "    pizza = preprocess_url(pizza_url, 'pizza')\n",
    "    scuba = preprocess_url(scuba_diver_url, 'scuba')\n",
    "    hopper = preprocess_url(hopper_url, 'hopper')\n",
    "    salamander = preprocess_url(salamander1_url, 'salamand')\n",
    "    dog = preprocess_url(dog_url, 'dog')\n",
    "    imgs = [goldfish, pizza, scuba, hopper, salamander, dog]\n",
    "    return imgs"
   ]
  },
  {
   "cell_type": "code",
   "execution_count": null,
   "metadata": {},
   "outputs": [],
   "source": [
    "imgs = download_example_imgs()\n",
    "print('Range of values: ', np.max(imgs[0]), np.min(imgs[0]))\n",
    "plot_subplots(imgs=[im[0] for im in imgs], dims=(2,3))"
   ]
  },
  {
   "cell_type": "markdown",
   "execution_count": null,
   "metadata": {},
   "outputs": [],
   "source": [
    "# 5. Different classifier sizes and num_classes\n",
    "The next cell will iterate over the number of classes of imagenet and it will create:\n",
    "- a subset of labels for each case (from 800 clases to 10)\n",
    "- a model which classifier has been loaded with that exact number weights for those classes on each iteration\n",
    "\n",
    "It will perform a forward pass with an image of a goldfish and it will label the image correctly all the iterations.\n",
    "\n",
    "The index of the 'goldfish' label is 2 so, it's safe to iterate from 1000 clases to 10 and still get the right output.\n"
   ]
  },
  {
   "cell_type": "code",
   "execution_count": null,
   "metadata": {},
   "outputs": [],
   "source": [
    "for i in range(800, 2, -10):\n",
    "    print(f\"\\n\\n+====================================+\")\n",
    "    print(f\"+==========={i}_NUM_CLASES===========+\")\n",
    "    print(f\"+====================================+\")\n",
    "    mobilenet.build(num_classes=i)\n",
    "    imagenet_labels = get_imagenet_labels(True, num_classes=i)\n",
    "    output_goldfish = mobilenet.core_model(imgs[0])\n",
    "    decoded = imagenet_labels[np.argsort(output_goldfish)[0,::-1][:1]+1]\n",
    "    print(f\"\\n\\n+====================================+\")\n",
    "    print(f\"+=========DECODED_IMAGE OUTPUTS======+\")\n",
    "    print(f\"+====================================+\")\n",
    "    print('(goldfish expected)\\n>>',decoded)"
   ]
  }
 ]
}