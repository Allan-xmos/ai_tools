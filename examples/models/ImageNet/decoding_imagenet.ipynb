{
 "nbformat": 4,
 "nbformat_minor": 2,
 "metadata": {
  "language_info": {
   "name": "python",
   "codemirror_mode": {
    "name": "ipython",
    "version": 3
   },
   "version": "3.6.8-final"
  },
  "orig_nbformat": 2,
  "file_extension": ".py",
  "mimetype": "text/x-python",
  "name": "python",
  "npconvert_exporter": "python",
  "pygments_lexer": "ipython3",
  "version": 3,
  "kernelspec": {
   "name": "python3",
   "display_name": "Python 3"
  }
 },
 "cells": [
  {
   "cell_type": "markdown",
   "execution_count": null,
   "metadata": {},
   "outputs": [],
   "source": [
    "# Full forward pass & decode with Mobilenet + ImageNet"
   ]
  },
  {
   "cell_type": "markdown",
   "execution_count": null,
   "metadata": {},
   "outputs": [],
   "source": [
    "## 1.- Imports"
   ]
  },
  {
   "cell_type": "code",
   "execution_count": null,
   "metadata": {},
   "outputs": [],
   "source": [
    "import numpy as np\n",
    "import tensorflow_datasets as tfds\n",
    "import tensorflow as tf\n",
    "from matplotlib import pyplot as plt\n",
    "from generate_mobilenet import Mobilenet\n",
    "import pathlib"
   ]
  },
  {
   "cell_type": "markdown",
   "execution_count": null,
   "metadata": {},
   "outputs": [],
   "source": [
    "## 2.- Model instantiation"
   ]
  },
  {
   "cell_type": "code",
   "execution_count": null,
   "metadata": {},
   "outputs": [],
   "source": [
    "path = pathlib.Path('.').parent.joinpath('debug', 'notebooks').resolve()\n",
    "mobilenet = Mobilenet('MobileNet', path)"
   ]
  },
  {
   "cell_type": "code",
   "execution_count": null,
   "metadata": {},
   "outputs": [],
   "source": [
    "mobilenet.build()"
   ]
  },
  {
   "cell_type": "markdown",
   "execution_count": null,
   "metadata": {},
   "outputs": [],
   "source": [
    "## 3.- ImageNet labels"
   ]
  },
  {
   "cell_type": "code",
   "execution_count": null,
   "metadata": {},
   "outputs": [],
   "source": [
    "labels_path = tf.keras.utils.get_file(\n",
    "    'ImageNetLabels.txt',\n",
    "    'https://storage.googleapis.com/download.tensorflow.org/data/ImageNetLabels.txt')\n",
    "imagenet_labels = np.array(open(labels_path).read().splitlines())\n",
    "print(len(imagenet_labels))\n",
    ""
   ]
  },
  {
   "cell_type": "code",
   "execution_count": null,
   "metadata": {},
   "outputs": [],
   "source": [
    "print(imagenet_labels[-100:])\n",
    "print(imagenet_labels[:100])"
   ]
  },
  {
   "cell_type": "code",
   "execution_count": null,
   "metadata": {},
   "outputs": [],
   "source": [
    "print('pizza' in imagenet_labels[-100:])\n",
    "print('vulture' in imagenet_labels[-100:])\n",
    "print('goldfish' in imagenet_labels[:100])\n",
    "print('vulture' in imagenet_labels[:100])\n",
    "imagenet_labels = imagenet_labels[:100]\n",
    "print(imagenet_labels.shape)\n",
    "print(imagenet_labels)"
   ]
  },
  {
   "cell_type": "markdown",
   "execution_count": null,
   "metadata": {},
   "outputs": [],
   "source": [
    "## 4.- Example image\n",
    "The two links provided are from TensorFlow and Wikipedia\n",
    "![TensorFlow][https://storage.googleapis.com/download.tensorflow.org/example_images/grace_hopper.jpg]\n",
    "![Wikipedia][https://upload.wikimedia.org/wikipedia/commons/thumb/9/97/Dog_for_Senior_Dog_Food_Diet_Wikipedia_Page.jpg/1200px-Dog_for_Senior_Dog_Food_Diet_Wikipedia_Page.jpg]"
   ]
  },
  {
   "cell_type": "code",
   "execution_count": null,
   "metadata": {},
   "outputs": [],
   "source": [
    "#image_url = \"https://storage.googleapis.com/download.tensorflow.org/example_images/grace_hopper.jpg\"\n",
    "image_url = 'https://fthmb.tqn.com/VHeLk32zZhv3Kp70RBinGvF_dmM=/3920x2160/filters:fill(auto,1)/GettyImages-597572085-584819855f9b5851e593fd0b.jpg'\n",
    "pizza_url = 'https://upload.wikimedia.org/wikipedia/commons/2/2d/Punch_Neapolitan_Pizza_Margherita.jpg'\n",
    "goldfish_url = 'https://i.ytimg.com/vi/DSDUCxvb7R4/hqdefault.jpg'\n",
    "#'https://upload.wikimedia.org/wikipedia/commons/6/6a/Blue-spotted_salamander_(Ambystoma_laterale).jpg'\n",
    "#'https://en.wikipedia.org/wiki/Spotted_salamander#/media/File:Spotted_Salamander,_Cantley,_Quebec.jpg'\n",
    "#'https://upload.wikimedia.org/wikipedia/commons/thumb/9/97/Dog_for_Senior_Dog_Food_Diet_Wikipedia_Page.jpg/1200px-Dog_for_Senior_Dog_Food_Diet_Wikipedia_Page.jpg'\n",
    "f = tf.keras.utils.get_file(\"goldfishh\", goldfish_url)\n",
    "img = tf.keras.preprocessing.image.load_img(f, target_size=[159, 159])\n",
    "x = tf.keras.preprocessing.image.img_to_array(img)\n",
    "goldfish = tf.keras.applications.mobilenet.preprocess_input(x[tf.newaxis,...])\n",
    "plt.imshow(img)\n",
    "plt.axis('off')\n",
    ""
   ]
  },
  {
   "cell_type": "code",
   "execution_count": null,
   "metadata": {},
   "outputs": [],
   "source": [
    "f = tf.keras.utils.get_file(\"pizza\", pizza_url)\n",
    "img = tf.keras.preprocessing.image.load_img(f, target_size=[159, 159])\n",
    "x = tf.keras.preprocessing.image.img_to_array(img)\n",
    "pizza = tf.keras.applications.mobilenet.preprocess_input(x[tf.newaxis,...])\n",
    "plt.imshow(img)\n",
    "plt.axis('off')"
   ]
  },
  {
   "cell_type": "markdown",
   "execution_count": null,
   "metadata": {},
   "outputs": [],
   "source": [
    "## 5.- Mobilenet output"
   ]
  },
  {
   "cell_type": "code",
   "execution_count": null,
   "metadata": {},
   "outputs": [],
   "source": [
    "output_pizza = mobilenet.core_model(pizza)\n",
    "output_pizza.shape"
   ]
  },
  {
   "cell_type": "code",
   "execution_count": null,
   "metadata": {},
   "outputs": [],
   "source": [
    "output_goldfish = mobilenet.core_model(goldfish)\n",
    "output_goldfish.shape\n",
    "print(np.argmax(output_goldfish))\n",
    "imagenet_labels[95]"
   ]
  },
  {
   "cell_type": "markdown",
   "execution_count": null,
   "metadata": {},
   "outputs": [],
   "source": [
    "## 6.- Decoded output"
   ]
  },
  {
   "cell_type": "code",
   "execution_count": null,
   "metadata": {},
   "outputs": [],
   "source": [
    "decoded = imagenet_labels[np.argsort(output_pizza)[0,::-1][:5]+1]\n",
    "print(len(decoded[0][0]))\n",
    "print(decoded)"
   ]
  },
  {
   "cell_type": "code",
   "execution_count": null,
   "metadata": {},
   "outputs": [],
   "source": [
    "decoded = imagenet_labels[np.argsort(output_goldfish)[0,::-1][:5]+1]\n",
    "print(len(decoded[0][0]))\n",
    "print(decoded)"
   ]
  }
 ]
}