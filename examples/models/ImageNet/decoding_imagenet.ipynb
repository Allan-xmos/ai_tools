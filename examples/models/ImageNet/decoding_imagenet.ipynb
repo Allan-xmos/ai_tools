{
 "nbformat": 4,
 "nbformat_minor": 2,
 "metadata": {
  "language_info": {
   "name": "python",
   "codemirror_mode": {
    "name": "ipython",
    "version": 3
   },
   "version": "3.6.8-final"
  },
  "orig_nbformat": 2,
  "file_extension": ".py",
  "mimetype": "text/x-python",
  "name": "python",
  "npconvert_exporter": "python",
  "pygments_lexer": "ipython3",
  "version": 3,
  "kernelspec": {
   "name": "python3",
   "display_name": "Python 3"
  }
 },
 "cells": [
  {
   "cell_type": "markdown",
   "execution_count": null,
   "metadata": {},
   "outputs": [],
   "source": [
    "# Full forward pass & decode with Mobilenet + ImageNet"
   ]
  },
  {
   "cell_type": "markdown",
   "execution_count": null,
   "metadata": {},
   "outputs": [],
   "source": [
    "## 1.- Imports"
   ]
  },
  {
   "cell_type": "code",
   "execution_count": null,
   "metadata": {},
   "outputs": [],
   "source": [
    "import numpy as np\n",
    "import tensorflow_datasets as tfds\n",
    "import tensorflow as tf\n",
    "from matplotlib import pyplot as plt\n",
    "from generate_mobilenet import Mobilenet\n",
    "import pathlib\n",
    "from tensorflow.python.keras import backend\n",
    "from tensorflow.python.keras.utils import all_utils as keras_utils\n",
    "import json\n",
    "from mpl_toolkits.axes_grid1 import AxesGrid"
   ]
  },
  {
   "cell_type": "code",
   "execution_count": null,
   "metadata": {},
   "outputs": [],
   "source": [
    "def plot_subplots(**kwargs):\n",
    "    '''\n",
    "    Function to plot several imagenes easily.\n",
    "    kwargs:\n",
    "    - dims: dimension of the subplots\n",
    "    - imgs: list of images to plot\n",
    "    '''\n",
    "    with plt.style.context(\"dark_background\"):\n",
    "        fig = plt.figure(figsize=(6, 4))\n",
    "        grid = AxesGrid(fig, 111,\n",
    "                        nrows_ncols=kwargs['dims'],\n",
    "                        axes_pad=0.05,\n",
    "                        cbar_mode='single',\n",
    "                        cbar_location='right',\n",
    "                        cbar_pad=0.1\n",
    "                        )\n",
    "        for i, ax in enumerate(grid):\n",
    "            ax.set_axis_off()\n",
    "            im = ax.imshow(kwargs['imgs'][i], vmin=0, vmax=1)\n",
    "        cbar = ax.cax.colorbar(im)\n",
    "        cbar = grid.cbar_axes[0].colorbar(im)\n",
    "        cbar.ax.set_yticks(np.arange(0, 1.1, 0.5))\n",
    "        cbar.ax.set_yticklabels(['low', 'medium', 'high'])\n",
    "        plt.show()\n",
    "        plt.close(fig)"
   ]
  },
  {
   "cell_type": "markdown",
   "execution_count": null,
   "metadata": {},
   "outputs": [],
   "source": [
    "## 2.- Model instantiation"
   ]
  },
  {
   "cell_type": "code",
   "execution_count": null,
   "metadata": {},
   "outputs": [],
   "source": [
    "path = pathlib.Path('.').parent.joinpath('debug', 'notebooks').resolve()\n",
    "mobilenet = Mobilenet('MobileNet', path)\n",
    "mobilenet.build(num_classes=500)"
   ]
  },
  {
   "cell_type": "markdown",
   "execution_count": null,
   "metadata": {},
   "outputs": [],
   "source": [
    "## 3.- ImageNet labels"
   ]
  },
  {
   "cell_type": "code",
   "execution_count": null,
   "metadata": {},
   "outputs": [],
   "source": [
    "def get_imagenet_labels(last, num_classes):\n",
    "    labels_path = tf.keras.utils.get_file(\n",
    "        'ImageNetLabels.txt',\n",
    "        'https://storage.googleapis.com/download.tensorflow.org/data/ImageNetLabels.txt')\n",
    "    imagenet_labels = np.array(open(labels_path).read().splitlines())\n",
    "    print('total # of labels: ', len(imagenet_labels))\n",
    "    first_100 = imagenet_labels[-num_classes:]\n",
    "    last_100 = imagenet_labels[:num_classes]\n",
    "\n",
    "    imagenet_labels = last_100 if last else first_100\n",
    "    print('After prunning: ', imagenet_labels.shape)\n",
    "    print(f'''\n",
    "    Labels in partition:\n",
    "    \\t- pizza: {'pizza' in imagenet_labels}\n",
    "    \\t- scuba diver: {'scuba diver' in imagenet_labels}\n",
    "    \\t- military uniform: {'military uniform' in imagenet_labels}\n",
    "    \\t- dog: {'dog' in imagenet_labels}\n",
    "    \\t- goldfish: {'goldfish' in imagenet_labels}\n",
    "    \\t- salamander: {'spotted salamander' in imagenet_labels}\n",
    "    ''')\n",
    "    print(imagenet_labels)\n",
    "    return imagenet_labels\n",
    "imagenet_labels = get_imagenet_labels(True, 500)\n"
   ]
  },
  {
   "cell_type": "markdown",
   "execution_count": null,
   "metadata": {},
   "outputs": [],
   "source": [
    "## 4.- Example image and preprocess\n",
    "The two links provided are from TensorFlow and Wikipedia\n",
    "![TensorFlow][https://storage.googleapis.com/download.tensorflow.org/example_images/grace_hopper.jpg]\n",
    "![Wikipedia][https://upload.wikimedia.org/wikipedia/commons/thumb/9/97/Dog_for_Senior_Dog_Food_Diet_Wikipedia_Page.jpg/1200px-Dog_for_Senior_Dog_Food_Diet_Wikipedia_Page.jpg]"
   ]
  },
  {
   "cell_type": "code",
   "execution_count": null,
   "metadata": {},
   "outputs": [],
   "source": [
    "def preprocess_url(url, name):\n",
    "    f = tf.keras.utils.get_file(name, url)\n",
    "    img = tf.keras.preprocessing.image.load_img(f, target_size=[159, 159])\n",
    "    img = tf.keras.preprocessing.image.img_to_array(img)\n",
    "    x = tf.keras.applications.mobilenet.preprocess_input(img)\n",
    "    x = (x-np.min(x))/(np.max(x)-np.min(x))\n",
    "    return x[tf.newaxis,...]\n",
    "\n",
    "def download_example_imgs():\n",
    "    goldfish_url = 'https://i.ytimg.com/vi/DSDUCxvb7R4/hqdefault.jpg'\n",
    "    pizza_url = 'https://upload.wikimedia.org/wikipedia/commons/2/2d/Punch_Neapolitan_Pizza_Margherita.jpg'\n",
    "    scuba_diver_url = 'https://fthmb.tqn.com/VHeLk32zZhv3Kp70RBinGvF_dmM=/3920x2160/filters:fill(auto,1)/GettyImages-597572085-584819855f9b5851e593fd0b.jpg'\n",
    "    hopper_url = \"https://storage.googleapis.com/download.tensorflow.org/example_images/grace_hopper.jpg\"\n",
    "    salamander1_url = 'https://upload.wikimedia.org/wikipedia/commons/6/6a/Blue-spotted_salamander_(Ambystoma_laterale).jpg'\n",
    "    dog_url = 'https://upload.wikimedia.org/wikipedia/commons/thumb/9/97/Dog_for_Senior_Dog_Food_Diet_Wikipedia_Page.jpg/1200px-Dog_for_Senior_Dog_Food_Diet_Wikipedia_Page.jpg'\n",
    "\n",
    "    goldfish = preprocess_url(goldfish_url, 'fish')\n",
    "    pizza = preprocess_url(pizza_url, 'pizza')\n",
    "    scuba = preprocess_url(scuba_diver_url, 'scuba')\n",
    "    hopper = preprocess_url(hopper_url, 'hopper')\n",
    "    salamander = preprocess_url(salamander1_url, 'salamand')\n",
    "    dog = preprocess_url(dog_url, 'dog')\n",
    "    imgs = [goldfish, pizza, scuba, hopper, salamander, dog]\n",
    "    return imgs"
   ]
  },
  {
   "cell_type": "code",
   "execution_count": null,
   "metadata": {},
   "outputs": [],
   "source": [
    "imgs = download_example_imgs()\n",
    "print('Range of values: ', np.max(imgs[0]), np.min(imgs[0]))\n",
    "plot_subplots(imgs=[im[0] for im in imgs], dims=(2,3))"
   ]
  },
  {
   "cell_type": "markdown",
   "execution_count": null,
   "metadata": {},
   "outputs": [],
   "source": [
    "## 5.- Mobilenet output"
   ]
  },
  {
   "cell_type": "code",
   "execution_count": null,
   "metadata": {},
   "outputs": [],
   "source": [
    "CLASS_INDEX = None\n",
    "CLASS_INDEX_PATH = ('https://storage.googleapis.com/download.tensorflow.org/'\n",
    "                    'data/imagenet_class_index.json')\n",
    "\n",
    "def decode_predictions(preds, top=5, **kwargs):\n",
    "    \"\"\"Decodes the prediction of an ImageNet model.\n",
    "    # Arguments\n",
    "        preds: Numpy tensor encoding a batch of predictions.\n",
    "        top: Integer, how many top-guesses to return.\n",
    "    # Returns\n",
    "        A list of lists of top class prediction tuples\n",
    "        `(class_name, class_description, score)`.\n",
    "        One list of tuples per sample in batch input.\n",
    "    # Raises\n",
    "        ValueError: In case of invalid shape of the `pred` array\n",
    "            (must be 2D).\n",
    "    \"\"\"\n",
    "    global CLASS_INDEX\n",
    "\n",
    "    if len(preds.shape) != 2: #or preds.shape[1] != 1000:\n",
    "        raise ValueError('`decode_predictions` expects '\n",
    "                         'a batch of predictions '\n",
    "                         '(i.e. a 2D array of shape (samples, 1000)). '\n",
    "                         'Found array with shape: ' + str(preds.shape))\n",
    "    if CLASS_INDEX is None:\n",
    "        fpath = keras_utils.get_file(\n",
    "            'imagenet_class_index.json',\n",
    "            CLASS_INDEX_PATH,\n",
    "            cache_subdir='models',\n",
    "            file_hash='c2c37ea517e94d9795004a39431a14cb')\n",
    "        with open(fpath) as f:\n",
    "            CLASS_INDEX = json.load(f)\n",
    "    results = []\n",
    "    for pred in preds:\n",
    "        top_indices = np.argsort(pred)[-top:][::-1]\n",
    "        result = [tuple(CLASS_INDEX[str(i)]) + (pred[i],) for i in top_indices]\n",
    "        result.sort(key=lambda x: x[2], reverse=True)\n",
    "        results.append(result)\n",
    "    return results"
   ]
  },
  {
   "cell_type": "code",
   "execution_count": null,
   "metadata": {},
   "outputs": [],
   "source": [
    "output_goldfish = mobilenet.core_model(imgs[0])\n",
    "print(output_goldfish.shape)\n",
    "idx = np.argmax(output_goldfish)\n",
    "print(idx)\n",
    "imagenet_labels[idx+1]"
   ]
  },
  {
   "cell_type": "code",
   "execution_count": null,
   "metadata": {},
   "outputs": [],
   "source": [
    "decoded = imagenet_labels[np.argsort(output_goldfish)[0,::-1][:5]+1]\n",
    "print(decoded)"
   ]
  },
  {
   "cell_type": "code",
   "execution_count": null,
   "metadata": {},
   "outputs": [],
   "source": [
    "decode_predictions(output_goldfish)"
   ]
  },
  {
   "cell_type": "markdown",
   "execution_count": null,
   "metadata": {},
   "outputs": [],
   "source": [
    "## 6.- Decoded output"
   ]
  },
  {
   "cell_type": "code",
   "execution_count": null,
   "metadata": {},
   "outputs": [],
   "source": [
    "decoded = imagenet_labels[np.argsort(output_goldfish)[0,::-1][:5]+1]\n",
    "print(decoded)"
   ]
  },
  {
   "cell_type": "code",
   "execution_count": null,
   "metadata": {},
   "outputs": [],
   "source": [
    "decoded = imagenet_labels[np.argsort(output_pizza)[0,::-1][:5]+1]\n",
    "print(decoded)"
   ]
  }
 ]
}