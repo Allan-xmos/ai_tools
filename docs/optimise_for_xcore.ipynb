{
 "cells": [
  {
   "cell_type": "markdown",
   "id": "fd68bb25",
   "metadata": {},
   "source": [
    "   # XCore Optimisation Cheatsheet\n",
    "   \n",
    "   Xformer tries to optimise models as much as possible, but some optimisations have certain requirements in the model creation.   "
   ]
  },
  {
   "cell_type": "code",
   "execution_count": null,
   "id": "109981f0",
   "metadata": {},
   "outputs": [],
   "source": [
    "import keras\n",
    "import tensorflow as tf\n",
    "from keras import layers"
   ]
  },
  {
   "cell_type": "markdown",
   "id": "06f6f814",
   "metadata": {},
   "source": [
    "## Convolutions\n",
    "\n",
    "The possible ways that convolutions can be run are:\n",
    "\n",
    "![From fastest to slowest: Valid direct, Valid indirect, Padded indirect, Reference implementation (default)](conv_2d_optimisation.png)\n",
    "\n",
    "These each have requirements relating to the inputs to the convolution. Consider padding or rounding values to meet the rules for these optimisations.\n",
    "\n",
    "### Conv2D\n",
    "\n",
    "Conv2D applies a filter(s) to each channel of an input. The convolution of each layer is summed together to produce the new channel. Conv2D can therefore be any *n* input channels to any *m* output channels.\n",
    "\n",
    "#### REQUIREMENTS:\n",
    "**No Optimisation:**\n",
    "\n",
    "None\n",
    "\n",
    "**Padded Indirect:**\n",
    "(for padding=same)\n",
    "\n",
    "* Number of input channels is multiple of 4\n",
    "* Number of filters is multiple of 4\n",
    "\n",
    "**Valid Indirect**\n",
    "(for padding=valid)\n",
    "\n",
    "* Number of Input channels is multiple of 4\n",
    "* Number of filters is multiple of 4\n",
    "\n",
    "\n",
    "**Valid Direct**\n",
    "(for padding=valid)\n",
    "\n",
    "* Number of Input channels is multiple of 32\n",
    "* Number of filters is multiple of 16\n",
    "\n",
    "#### EXAMPLE:\n"
   ]
  },
  {
   "cell_type": "code",
   "execution_count": null,
   "id": "64e58990",
   "metadata": {},
   "outputs": [],
   "source": [
    "# Unoptimised\n",
    "input = keras.Input(shape=(28, 28, 4), name=\"img\")\n",
    "x = layers.Conv2D(filters=32, kernel_size=4, activation=\"relu\")(input)\n",
    "x = layers.MaxPool2D(4, 4)(x)\n",
    "x = layers.Conv2D(filters=15, kernel_size=4, activation=\"relu\")(x) # Unoptimised, the number of filters is not multiple of 16\n",
    "output = layers.GlobalMaxPooling2D()(x)\n",
    "model = keras.Model(input, output, name=\"Unoptimised\")\n",
    "model.summary()\n",
    "\n",
    "# Optimised\n",
    "input = keras.Input(shape=(28, 28, 4), name=\"img\")\n",
    "x = layers.Conv2D(filters=32, kernel_size=4, activation=\"relu\")(input)\n",
    "x = layers.MaxPool2D(4, 4)(x)\n",
    "x = layers.Conv2D(filters=16, kernel_size=4, activation=\"relu\")(x) # Round this to 16 to get to the requirements for Valid Direct\n",
    "output = layers.GlobalMaxPooling2D()(x)\n",
    "model = keras.Model(input, output, name=\"Optimised\")\n",
    "model.summary()"
   ]
  },
  {
   "cell_type": "markdown",
   "id": "6e029b35",
   "metadata": {},
   "source": [
    "### DepthwiseConv2D\n",
    "\n",
    "DepthwiseConv2D applies a filter to each channel of an input. Each channel has its own filter and the convolution is calculated independently of other channels. It is therefore *n* input channels to *n* output channels.\n",
    "\n",
    "*(NB: The DepthwiseConv2D has a depth_multiplier argument which means that the the true number of output channels is n * depth_multiplier.)*\n",
    "\n",
    "#### REQUIREMENTS:\n",
    "\n",
    "The requirements for each optimisation are the same as for a regular Conv2D, but because a `DepthwiseConv2D` is *n* input to *dn* (where *d* is the integer value of depth_multiplier), the only factor which affects this is the number of input channels.\n",
    "\n",
    "**No Optimisation:**\n",
    "\n",
    "None\n",
    "\n",
    "**Padded Indirect:**\n",
    "(for padding=same)\n",
    "\n",
    "* Number of input channels is multiple of 4\n",
    "\n",
    "**Valid Indirect**\n",
    "(for padding=valid)\n",
    "\n",
    "* Number of Input channels is multiple of 4\n",
    "\n",
    "**Valid Direct**\n",
    "(for padding=valid)\n",
    "\n",
    "* Number of Input channels is multiple of 32"
   ]
  },
  {
   "cell_type": "code",
   "execution_count": null,
   "id": "6bf232d9",
   "metadata": {},
   "outputs": [],
   "source": []
  }
 ],
 "metadata": {
  "kernelspec": {
   "display_name": "Python 3",
   "language": "python",
   "name": "python3"
  },
  "language_info": {
   "codemirror_mode": {
    "name": "ipython",
    "version": 3
   },
   "file_extension": ".py",
   "mimetype": "text/x-python",
   "name": "python",
   "nbconvert_exporter": "python",
   "pygments_lexer": "ipython3",
   "version": "3.8.8"
  }
 },
 "nbformat": 4,
 "nbformat_minor": 5
}
