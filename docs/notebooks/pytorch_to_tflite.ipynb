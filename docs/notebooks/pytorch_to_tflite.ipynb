{
 "cells": [
  {
   "cell_type": "markdown",
   "id": "3884f9b8",
   "metadata": {},
   "source": [
    "# Converting PyTorch to TensorFlow Lite for xCORE\n",
    "\n",
    "## Using ONNX\n",
    "\n",
    "ONNX is an open format built to represent machine learning models. We can convert from PyTorch to ONNX, then from ONNX to TensorFlow, then from TensorFlow to TensorFlow Lite, and finally, run it through xformer to optimise it for xCORE."
   ]
  },
  {
   "cell_type": "code",
   "execution_count": 1,
   "id": "338cd61d",
   "metadata": {},
   "outputs": [
    {
     "name": "stdout",
     "output_type": "stream",
     "text": [
      "Looking in indexes: https://pypi.org/simple, https://pypi.ngc.nvidia.com\n",
      "Requirement already satisfied: torch in /usr/local/anaconda3/lib/python3.8/site-packages (1.13.1)\n",
      "Requirement already satisfied: typing-extensions in /usr/local/anaconda3/lib/python3.8/site-packages (from torch) (4.3.0)\n",
      "Looking in indexes: https://pypi.org/simple, https://pypi.ngc.nvidia.com\n",
      "Requirement already satisfied: tensorflow in /usr/local/anaconda3/lib/python3.8/site-packages (2.12.0rc0)\n",
      "Requirement already satisfied: opt-einsum>=2.3.2 in /usr/local/anaconda3/lib/python3.8/site-packages (from tensorflow) (3.3.0)\n",
      "Requirement already satisfied: setuptools in /usr/local/anaconda3/lib/python3.8/site-packages (from tensorflow) (52.0.0.post20210125)\n",
      "Requirement already satisfied: astunparse>=1.6.0 in /usr/local/anaconda3/lib/python3.8/site-packages (from tensorflow) (1.6.3)\n",
      "Requirement already satisfied: gast<=0.4.0,>=0.2.1 in /usr/local/anaconda3/lib/python3.8/site-packages (from tensorflow) (0.4.0)\n",
      "Requirement already satisfied: google-pasta>=0.1.1 in /usr/local/anaconda3/lib/python3.8/site-packages (from tensorflow) (0.2.0)\n",
      "Requirement already satisfied: flatbuffers>=2.0 in /usr/local/anaconda3/lib/python3.8/site-packages (from tensorflow) (2.0)\n",
      "Requirement already satisfied: jax>=0.3.15 in /usr/local/anaconda3/lib/python3.8/site-packages (from tensorflow) (0.4.4)\n",
      "Requirement already satisfied: protobuf!=4.21.0,!=4.21.1,!=4.21.2,!=4.21.3,!=4.21.4,!=4.21.5,<5.0.0dev,>=3.20.3 in /usr/local/anaconda3/lib/python3.8/site-packages (from tensorflow) (3.20.3)\n",
      "Requirement already satisfied: typing-extensions>=3.6.6 in /usr/local/anaconda3/lib/python3.8/site-packages (from tensorflow) (4.3.0)\n",
      "Requirement already satisfied: grpcio<2.0,>=1.24.3 in /usr/local/anaconda3/lib/python3.8/site-packages (from tensorflow) (1.51.3)\n",
      "Requirement already satisfied: absl-py>=1.0.0 in /usr/local/anaconda3/lib/python3.8/site-packages (from tensorflow) (1.0.0)\n",
      "Requirement already satisfied: packaging in /usr/local/anaconda3/lib/python3.8/site-packages (from tensorflow) (20.9)\n",
      "Requirement already satisfied: tensorflow-estimator<2.13,>=2.12.0rc0 in /usr/local/anaconda3/lib/python3.8/site-packages (from tensorflow) (2.12.0rc0)\n",
      "Requirement already satisfied: termcolor>=1.1.0 in /usr/local/anaconda3/lib/python3.8/site-packages (from tensorflow) (1.1.0)\n",
      "Requirement already satisfied: h5py>=2.9.0 in /usr/local/anaconda3/lib/python3.8/site-packages (from tensorflow) (2.10.0)\n",
      "Requirement already satisfied: six>=1.12.0 in /usr/local/anaconda3/lib/python3.8/site-packages (from tensorflow) (1.15.0)\n",
      "Requirement already satisfied: tensorboard<2.13,>=2.12 in /usr/local/anaconda3/lib/python3.8/site-packages (from tensorflow) (2.12.0)\n",
      "Requirement already satisfied: keras<2.13,>=2.12.0rc0 in /usr/local/anaconda3/lib/python3.8/site-packages (from tensorflow) (2.12.0rc1)\n",
      "Requirement already satisfied: wrapt>=1.11.0 in /usr/local/anaconda3/lib/python3.8/site-packages (from tensorflow) (1.12.1)\n",
      "Requirement already satisfied: tensorflow-io-gcs-filesystem>=0.23.1 in /usr/local/anaconda3/lib/python3.8/site-packages (from tensorflow) (0.24.0)\n",
      "Requirement already satisfied: libclang>=13.0.0 in /usr/local/anaconda3/lib/python3.8/site-packages (from tensorflow) (13.0.0)\n",
      "Requirement already satisfied: numpy<1.24,>=1.22 in /usr/local/anaconda3/lib/python3.8/site-packages (from tensorflow) (1.22.4)\n",
      "Requirement already satisfied: wheel<1.0,>=0.23.0 in /usr/local/anaconda3/lib/python3.8/site-packages (from astunparse>=1.6.0->tensorflow) (0.36.2)\n",
      "Requirement already satisfied: scipy>=1.5 in /usr/local/anaconda3/lib/python3.8/site-packages (from jax>=0.3.15->tensorflow) (1.6.2)\n",
      "Requirement already satisfied: werkzeug>=1.0.1 in /usr/local/anaconda3/lib/python3.8/site-packages (from tensorboard<2.13,>=2.12->tensorflow) (1.0.1)\n",
      "Requirement already satisfied: google-auth<3,>=1.6.3 in /usr/local/anaconda3/lib/python3.8/site-packages (from tensorboard<2.13,>=2.12->tensorflow) (2.6.0)\n",
      "Requirement already satisfied: google-auth-oauthlib<0.5,>=0.4.1 in /usr/local/anaconda3/lib/python3.8/site-packages (from tensorboard<2.13,>=2.12->tensorflow) (0.4.6)\n",
      "Requirement already satisfied: requests<3,>=2.21.0 in /usr/local/anaconda3/lib/python3.8/site-packages (from tensorboard<2.13,>=2.12->tensorflow) (2.25.1)\n",
      "Requirement already satisfied: markdown>=2.6.8 in /usr/local/anaconda3/lib/python3.8/site-packages (from tensorboard<2.13,>=2.12->tensorflow) (3.3.6)\n",
      "Requirement already satisfied: tensorboard-plugin-wit>=1.6.0 in /usr/local/anaconda3/lib/python3.8/site-packages (from tensorboard<2.13,>=2.12->tensorflow) (1.8.1)\n",
      "Requirement already satisfied: tensorboard-data-server<0.8.0,>=0.7.0 in /usr/local/anaconda3/lib/python3.8/site-packages (from tensorboard<2.13,>=2.12->tensorflow) (0.7.0)\n",
      "Requirement already satisfied: rsa<5,>=3.1.4 in /usr/local/anaconda3/lib/python3.8/site-packages (from google-auth<3,>=1.6.3->tensorboard<2.13,>=2.12->tensorflow) (4.8)\n",
      "Requirement already satisfied: cachetools<6.0,>=2.0.0 in /usr/local/anaconda3/lib/python3.8/site-packages (from google-auth<3,>=1.6.3->tensorboard<2.13,>=2.12->tensorflow) (5.0.0)\n",
      "Requirement already satisfied: pyasn1-modules>=0.2.1 in /usr/local/anaconda3/lib/python3.8/site-packages (from google-auth<3,>=1.6.3->tensorboard<2.13,>=2.12->tensorflow) (0.2.8)\n",
      "Requirement already satisfied: requests-oauthlib>=0.7.0 in /usr/local/anaconda3/lib/python3.8/site-packages (from google-auth-oauthlib<0.5,>=0.4.1->tensorboard<2.13,>=2.12->tensorflow) (1.3.1)\n",
      "Requirement already satisfied: importlib-metadata>=4.4 in /usr/local/anaconda3/lib/python3.8/site-packages (from markdown>=2.6.8->tensorboard<2.13,>=2.12->tensorflow) (4.11.2)\n",
      "Requirement already satisfied: zipp>=0.5 in /usr/local/anaconda3/lib/python3.8/site-packages (from importlib-metadata>=4.4->markdown>=2.6.8->tensorboard<2.13,>=2.12->tensorflow) (3.4.1)\n",
      "Requirement already satisfied: pyasn1<0.5.0,>=0.4.6 in /usr/local/anaconda3/lib/python3.8/site-packages (from pyasn1-modules>=0.2.1->google-auth<3,>=1.6.3->tensorboard<2.13,>=2.12->tensorflow) (0.4.8)\n",
      "Requirement already satisfied: urllib3<1.27,>=1.21.1 in /usr/local/anaconda3/lib/python3.8/site-packages (from requests<3,>=2.21.0->tensorboard<2.13,>=2.12->tensorflow) (1.26.4)\n",
      "Requirement already satisfied: idna<3,>=2.5 in /usr/local/anaconda3/lib/python3.8/site-packages (from requests<3,>=2.21.0->tensorboard<2.13,>=2.12->tensorflow) (2.10)\n",
      "Requirement already satisfied: chardet<5,>=3.0.2 in /usr/local/anaconda3/lib/python3.8/site-packages (from requests<3,>=2.21.0->tensorboard<2.13,>=2.12->tensorflow) (4.0.0)\n",
      "Requirement already satisfied: certifi>=2017.4.17 in /usr/local/anaconda3/lib/python3.8/site-packages (from requests<3,>=2.21.0->tensorboard<2.13,>=2.12->tensorflow) (2020.12.5)\n",
      "Requirement already satisfied: oauthlib>=3.0.0 in /usr/local/anaconda3/lib/python3.8/site-packages (from requests-oauthlib>=0.7.0->google-auth-oauthlib<0.5,>=0.4.1->tensorboard<2.13,>=2.12->tensorflow) (3.2.0)\n",
      "Requirement already satisfied: pyparsing>=2.0.2 in /usr/local/anaconda3/lib/python3.8/site-packages (from packaging->tensorflow) (2.4.7)\n",
      "Looking in indexes: https://pypi.org/simple, https://pypi.ngc.nvidia.com\n",
      "Requirement already satisfied: onnx in /usr/local/anaconda3/lib/python3.8/site-packages (1.13.1)\n",
      "Requirement already satisfied: protobuf<4,>=3.20.2 in /usr/local/anaconda3/lib/python3.8/site-packages (from onnx) (3.20.3)\n",
      "Requirement already satisfied: typing-extensions>=3.6.2.1 in /usr/local/anaconda3/lib/python3.8/site-packages (from onnx) (4.3.0)\n",
      "Requirement already satisfied: numpy>=1.16.6 in /usr/local/anaconda3/lib/python3.8/site-packages (from onnx) (1.22.4)\n",
      "Looking in indexes: https://pypi.org/simple, https://pypi.ngc.nvidia.com\n",
      "Requirement already satisfied: nvidia-pyindex in /usr/local/anaconda3/lib/python3.8/site-packages (1.0.9)\n",
      "Looking in indexes: https://pypi.org/simple, https://pypi.ngc.nvidia.com\n",
      "Collecting onnx-graphsurgeon\n",
      "  Downloading https://developer.download.nvidia.com/compute/redist/onnx-graphsurgeon/onnx_graphsurgeon-0.3.26-py2.py3-none-any.whl (41 kB)\n",
      "\u001b[K     |████████████████████████████████| 41 kB 2.6 MB/s  eta 0:00:01\n",
      "\u001b[?25hRequirement already satisfied: numpy in /usr/local/anaconda3/lib/python3.8/site-packages (from onnx-graphsurgeon) (1.22.4)\n",
      "Requirement already satisfied: onnx in /usr/local/anaconda3/lib/python3.8/site-packages (from onnx-graphsurgeon) (1.13.1)\n",
      "Requirement already satisfied: protobuf<4,>=3.20.2 in /usr/local/anaconda3/lib/python3.8/site-packages (from onnx->onnx-graphsurgeon) (3.20.3)\n",
      "Requirement already satisfied: typing-extensions>=3.6.2.1 in /usr/local/anaconda3/lib/python3.8/site-packages (from onnx->onnx-graphsurgeon) (4.3.0)\n"
     ]
    },
    {
     "name": "stdout",
     "output_type": "stream",
     "text": [
      "Installing collected packages: onnx-graphsurgeon\n",
      "Successfully installed onnx-graphsurgeon-0.3.26\n",
      "Looking in indexes: https://pypi.org/simple, https://pypi.ngc.nvidia.com\n",
      "Collecting polygraphy\n",
      "  Downloading https://developer.download.nvidia.com/compute/redist/polygraphy/polygraphy-0.44.2-py2.py3-none-any.whl (291 kB)\n",
      "\u001b[K     |████████████████████████████████| 291 kB 3.9 MB/s eta 0:00:01     |████▌                           | 40 kB 1.8 MB/s eta 0:00:01\n",
      "\u001b[?25hInstalling collected packages: polygraphy\n",
      "Successfully installed polygraphy-0.44.2\n",
      "Looking in indexes: https://pypi.org/simple, https://pypi.ngc.nvidia.com\n",
      "Collecting onnxruntime\n",
      "  Downloading onnxruntime-1.14.1-cp38-cp38-macosx_10_15_x86_64.whl (6.6 MB)\n",
      "\u001b[K     |████████████████████████████████| 6.6 MB 3.7 MB/s eta 0:00:01\n",
      "\u001b[?25hRequirement already satisfied: numpy>=1.21.6 in /usr/local/anaconda3/lib/python3.8/site-packages (from onnxruntime) (1.22.4)\n",
      "Collecting coloredlogs\n",
      "  Downloading coloredlogs-15.0.1-py2.py3-none-any.whl (46 kB)\n",
      "\u001b[K     |████████████████████████████████| 46 kB 48.2 MB/s eta 0:00:01\n",
      "\u001b[?25hRequirement already satisfied: packaging in /usr/local/anaconda3/lib/python3.8/site-packages (from onnxruntime) (20.9)\n",
      "Requirement already satisfied: sympy in /usr/local/anaconda3/lib/python3.8/site-packages (from onnxruntime) (1.8)\n",
      "Requirement already satisfied: protobuf in /usr/local/anaconda3/lib/python3.8/site-packages (from onnxruntime) (3.20.3)\n",
      "Requirement already satisfied: flatbuffers in /usr/local/anaconda3/lib/python3.8/site-packages (from onnxruntime) (2.0)\n",
      "Collecting humanfriendly>=9.1\n",
      "  Downloading humanfriendly-10.0-py2.py3-none-any.whl (86 kB)\n",
      "\u001b[K     |████████████████████████████████| 86 kB 47.9 MB/s eta 0:00:01\n",
      "\u001b[?25hRequirement already satisfied: pyparsing>=2.0.2 in /usr/local/anaconda3/lib/python3.8/site-packages (from packaging->onnxruntime) (2.4.7)\n",
      "Requirement already satisfied: mpmath>=0.19 in /usr/local/anaconda3/lib/python3.8/site-packages (from sympy->onnxruntime) (1.2.1)\n",
      "Installing collected packages: humanfriendly, coloredlogs, onnxruntime\n",
      "Successfully installed coloredlogs-15.0.1 humanfriendly-10.0 onnxruntime-1.14.1\n",
      "Looking in indexes: https://pypi.org/simple, https://pypi.ngc.nvidia.com\n",
      "Collecting onnxsim\n",
      "  Downloading onnxsim-0.4.17-cp38-cp38-macosx_10_15_universal2.whl (3.2 MB)\n",
      "\u001b[K     |████████████████████████████████| 3.2 MB 6.5 MB/s eta 0:00:01\n",
      "\u001b[?25hCollecting rich\n",
      "  Downloading rich-13.3.1-py3-none-any.whl (239 kB)\n",
      "\u001b[K     |████████████████████████████████| 239 kB 30.8 MB/s eta 0:00:01\n",
      "\u001b[?25hRequirement already satisfied: onnx in /usr/local/anaconda3/lib/python3.8/site-packages (from onnxsim) (1.13.1)\n",
      "Requirement already satisfied: protobuf<4,>=3.20.2 in /usr/local/anaconda3/lib/python3.8/site-packages (from onnx->onnxsim) (3.20.3)\n",
      "Requirement already satisfied: typing-extensions>=3.6.2.1 in /usr/local/anaconda3/lib/python3.8/site-packages (from onnx->onnxsim) (4.3.0)\n",
      "Requirement already satisfied: numpy>=1.16.6 in /usr/local/anaconda3/lib/python3.8/site-packages (from onnx->onnxsim) (1.22.4)\n",
      "Collecting markdown-it-py<3.0.0,>=2.1.0\n",
      "  Downloading markdown_it_py-2.2.0-py3-none-any.whl (84 kB)\n",
      "\u001b[K     |████████████████████████████████| 84 kB 27.4 MB/s eta 0:00:01\n",
      "\u001b[?25hCollecting pygments<3.0.0,>=2.14.0\n",
      "  Downloading Pygments-2.14.0-py3-none-any.whl (1.1 MB)\n",
      "\u001b[K     |████████████████████████████████| 1.1 MB 47.1 MB/s eta 0:00:01\n",
      "\u001b[?25hCollecting mdurl~=0.1\n",
      "  Downloading mdurl-0.1.2-py3-none-any.whl (10.0 kB)\n",
      "Installing collected packages: mdurl, pygments, markdown-it-py, rich, onnxsim\n",
      "  Attempting uninstall: pygments\n",
      "    Found existing installation: Pygments 2.8.1\n",
      "    Uninstalling Pygments-2.8.1:\n",
      "      Successfully uninstalled Pygments-2.8.1\n",
      "\u001b[31mERROR: pip's dependency resolver does not currently take into account all the packages that are installed. This behaviour is the source of the following dependency conflicts.\n",
      "spyder 4.2.5 requires pyqt5<5.13, which is not installed.\n",
      "spyder 4.2.5 requires pyqtwebengine<5.13, which is not installed.\n",
      "nbconvert 6.0.7 requires nbclient<0.6.0,>=0.5.0, but you have nbclient 0.6.7 which is incompatible.\u001b[0m\n",
      "Successfully installed markdown-it-py-2.2.0 mdurl-0.1.2 onnxsim-0.4.17 pygments-2.14.0 rich-13.3.1\n",
      "Looking in indexes: https://pypi.org/simple, https://pypi.ngc.nvidia.com\n",
      "Collecting simple_onnx_processing_tools\n",
      "  Downloading simple_onnx_processing_tools-1.1.16-py3-none-any.whl (7.7 kB)\n",
      "Collecting sbi4onnx>=1.0.4\n",
      "  Downloading sbi4onnx-1.0.4-py3-none-any.whl (6.6 kB)\n",
      "Collecting sio4onnx>=1.0.2\n",
      "  Downloading sio4onnx-1.0.2-py3-none-any.whl (6.9 kB)\n",
      "Collecting sde4onnx>=1.0.0\n",
      "  Downloading sde4onnx-1.0.0-py3-none-any.whl (5.5 kB)\n",
      "Collecting sng4onnx>=1.0.1\n",
      "  Downloading sng4onnx-1.0.1-py3-none-any.whl (5.8 kB)\n",
      "Collecting soc4onnx>=1.0.2\n",
      "  Downloading soc4onnx-1.0.2-py3-none-any.whl (5.7 kB)\n",
      "Collecting sne4onnx>=1.0.11\n",
      "  Downloading sne4onnx-1.0.11-py3-none-any.whl (7.0 kB)\n",
      "Collecting scc4onnx>=1.0.5\n",
      "  Downloading scc4onnx-1.0.5-py3-none-any.whl (9.4 kB)\n",
      "Collecting sor4onnx>=1.0.5\n",
      "  Downloading sor4onnx-1.0.5-py3-none-any.whl (7.1 kB)\n",
      "Collecting soa4onnx>=1.0.3\n",
      "  Downloading soa4onnx-1.0.3-py3-none-any.whl (6.1 kB)\n",
      "Collecting snd4onnx>=1.1.6\n",
      "  Downloading snd4onnx-1.1.6-py3-none-any.whl (9.0 kB)\n",
      "Collecting sit4onnx>=1.0.6\n",
      "  Downloading sit4onnx-1.0.6-py3-none-any.whl (9.8 kB)\n",
      "Collecting onnx2json>=2.0.4\n",
      "  Downloading onnx2json-2.0.4-py3-none-any.whl (5.0 kB)\n",
      "Collecting svs4onnx>=1.0.0\n",
      "  Downloading svs4onnx-1.0.0-py3-none-any.whl (6.3 kB)\n",
      "Collecting sed4onnx>=1.0.5\n",
      "  Downloading sed4onnx-1.0.5-py3-none-any.whl (5.7 kB)\n",
      "Collecting scs4onnx>=1.0.18\n",
      "  Downloading scs4onnx-1.0.18-py3-none-any.whl (10 kB)\n",
      "Requirement already satisfied: onnx2tf>=1.7.7 in /usr/local/anaconda3/lib/python3.8/site-packages (from simple_onnx_processing_tools) (1.7.11)\n",
      "Collecting sna4onnx>=1.0.6\n",
      "  Downloading sna4onnx-1.0.6-py3-none-any.whl (10 kB)\n",
      "Collecting sod4onnx>=1.0.0\n",
      "  Downloading sod4onnx-1.0.0-py3-none-any.whl (5.9 kB)\n",
      "Collecting sog4onnx>=1.0.15\n",
      "  Downloading sog4onnx-1.0.15-py3-none-any.whl (9.2 kB)\n",
      "Collecting json2onnx>=2.0.2\n",
      "  Downloading json2onnx-2.0.2-py3-none-any.whl (4.8 kB)\n",
      "Collecting ssi4onnx>=1.0.2\n",
      "  Downloading ssi4onnx-1.0.2-py3-none-any.whl (5.5 kB)\n",
      "Collecting ssc4onnx>=1.0.4\n",
      "  Downloading ssc4onnx-1.0.4-py3-none-any.whl (6.8 kB)\n",
      "Collecting snc4onnx>=1.0.11\n",
      "  Downloading snc4onnx-1.0.11-py3-none-any.whl (10 kB)\n",
      "Collecting sam4onnx>=1.0.13\n",
      "  Downloading sam4onnx-1.0.13-py3-none-any.whl (10 kB)\n",
      "Installing collected packages: sog4onnx, svs4onnx, ssi4onnx, ssc4onnx, sor4onnx, sod4onnx, soc4onnx, soa4onnx, sng4onnx, sne4onnx, snd4onnx, snc4onnx, sna4onnx, sit4onnx, sio4onnx, sed4onnx, sde4onnx, scs4onnx, scc4onnx, sbi4onnx, sam4onnx, onnx2json, json2onnx, simple-onnx-processing-tools\n",
      "Successfully installed json2onnx-2.0.2 onnx2json-2.0.4 sam4onnx-1.0.13 sbi4onnx-1.0.4 scc4onnx-1.0.5 scs4onnx-1.0.18 sde4onnx-1.0.0 sed4onnx-1.0.5 simple-onnx-processing-tools-1.1.16 sio4onnx-1.0.2 sit4onnx-1.0.6 sna4onnx-1.0.6 snc4onnx-1.0.11 snd4onnx-1.1.6 sne4onnx-1.0.11 sng4onnx-1.0.1 soa4onnx-1.0.3 soc4onnx-1.0.2 sod4onnx-1.0.0 sog4onnx-1.0.15 sor4onnx-1.0.5 ssc4onnx-1.0.4 ssi4onnx-1.0.2 svs4onnx-1.0.0\n",
      "Looking in indexes: https://pypi.org/simple, https://pypi.ngc.nvidia.com\n",
      "Requirement already satisfied: onnx2tf in /usr/local/anaconda3/lib/python3.8/site-packages (1.7.11)\n",
      "Looking in indexes: https://pypi.org/simple, https://pypi.ngc.nvidia.com\n",
      "Requirement already satisfied: protobuf==3.20.3 in /usr/local/anaconda3/lib/python3.8/site-packages (3.20.3)\n",
      "Looking in indexes: https://pypi.org/simple, https://pypi.ngc.nvidia.com\n",
      "Collecting h5py==3.7\n",
      "  Downloading h5py-3.7.0-cp38-cp38-macosx_10_9_x86_64.whl (3.2 MB)\n",
      "\u001b[K     |████████████████████████████████| 3.2 MB 5.1 MB/s eta 0:00:01\n",
      "\u001b[?25hRequirement already satisfied: numpy>=1.14.5 in /usr/local/anaconda3/lib/python3.8/site-packages (from h5py==3.7) (1.22.4)\n",
      "Installing collected packages: h5py\n",
      "  Attempting uninstall: h5py\n",
      "    Found existing installation: h5py 2.10.0\n",
      "    Uninstalling h5py-2.10.0:\n",
      "      Successfully uninstalled h5py-2.10.0\n",
      "Successfully installed h5py-3.7.0\n"
     ]
    }
   ],
   "source": [
    "!pip install torch\n",
    "!pip install tensorflow\n",
    "!pip install -U onnx\n",
    "!pip install -U nvidia-pyindex\n",
    "!pip install -U onnx-graphsurgeon\n",
    "!pip install -U polygraphy\n",
    "!pip install -U onnxruntime\n",
    "!pip install -U onnxsim\n",
    "!pip install -U simple_onnx_processing_tools\n",
    "!pip install -U onnx2tf\n",
    "!pip install -U protobuf==3.20.3\n",
    "!pip install -U h5py==3.7"
   ]
  },
  {
   "cell_type": "markdown",
   "id": "30a560f7",
   "metadata": {},
   "source": [
    "### Import Model\n",
    "\n",
    "For this example, we use mobilenet_v2."
   ]
  },
  {
   "cell_type": "code",
   "execution_count": 2,
   "id": "212da674",
   "metadata": {},
   "outputs": [
    {
     "name": "stderr",
     "output_type": "stream",
     "text": [
      "Using cache found in /Users/salmankhan/.cache/torch/hub/pytorch_vision_v0.10.0\n"
     ]
    }
   ],
   "source": [
    "import torch\n",
    "\n",
    "model = torch.hub.load('pytorch/vision:v0.10.0', 'mobilenet_v2', pretrained=True)"
   ]
  },
  {
   "cell_type": "markdown",
   "id": "f8ed3583",
   "metadata": {},
   "source": [
    "### Convert to ONNX\n"
   ]
  },
  {
   "cell_type": "code",
   "execution_count": 3,
   "id": "811f9353",
   "metadata": {},
   "outputs": [],
   "source": [
    "batch_size = 8\n",
    "channels = 3\n",
    "height = 224\n",
    "width = 224\n",
    "\n",
    "sample_input = torch.rand((batch_size, channels, height, width))\n",
    "\n",
    "onnx_model_path = \"mobilenet_v2.onnx\"\n",
    "\n",
    "torch.onnx.export(\n",
    "    model,\n",
    "    sample_input,\n",
    "    onnx_model_path,\n",
    "    input_names=['input'],\n",
    "    output_names=['output']\n",
    ")"
   ]
  },
  {
   "cell_type": "markdown",
   "id": "40698641",
   "metadata": {},
   "source": [
    "### Convert from ONNX to TensorFlow\n",
    "\n",
    "Using unofficial package: https://github.com/PINTO0309/onnx2tf"
   ]
  },
  {
   "cell_type": "code",
   "execution_count": 4,
   "id": "6edafd97",
   "metadata": {
    "scrolled": false
   },
   "outputs": [
    {
     "name": "stderr",
     "output_type": "stream",
     "text": [
      "WARNING:absl:Please consider providing the trackable_obj argument in the from_concrete_functions. Providing without the trackable_obj argument is deprecated and it will use the deprecated conversion path.\n"
     ]
    },
    {
     "data": {
      "text/plain": [
       "<keras.engine.functional.Functional at 0x7f84e88dcd90>"
      ]
     },
     "execution_count": 4,
     "metadata": {},
     "output_type": "execute_result"
    }
   ],
   "source": [
    "import onnx2tf\n",
    "\n",
    "tf_model_path = \"mobilenet_v2.tf\"\n",
    "\n",
    "onnx2tf.convert(\n",
    "    input_onnx_file_path=onnx_model_path,\n",
    "    output_folder_path=tf_model_path,\n",
    "    output_signaturedefs=True,\n",
    "    non_verbose=True,\n",
    ")"
   ]
  },
  {
   "cell_type": "markdown",
   "id": "2c4e7b3c",
   "metadata": {},
   "source": [
    "### Convert from TensorFlow to TFLite\n"
   ]
  },
  {
   "cell_type": "code",
   "execution_count": 6,
   "id": "bbbf42fb",
   "metadata": {},
   "outputs": [],
   "source": [
    "import tensorflow as tf\n",
    "\n",
    "converter = tf.lite.TFLiteConverter.from_saved_model(tf_model_path)"
   ]
  },
  {
   "cell_type": "code",
   "execution_count": 16,
   "id": "547ce1dd",
   "metadata": {},
   "outputs": [],
   "source": [
    "import numpy as np\n",
    "def representative_dataset():\n",
    "    batch_size = 8\n",
    "    for _ in range(100):\n",
    "      data = np.random.uniform(-0.1, 0.001, (batch_size, height, width, channels))\n",
    "      yield [data.astype(np.float32)]"
   ]
  },
  {
   "cell_type": "code",
   "execution_count": null,
   "id": "7a066181",
   "metadata": {},
   "outputs": [],
   "source": [
    "converter.optimizations = [tf.lite.Optimize.DEFAULT]\n",
    "converter.representative_dataset = representative_dataset\n",
    "converter.target_spec.supported_ops = [tf.lite.OpsSet.TFLITE_BUILTINS_INT8]\n",
    "converter.inference_input_type = tf.int8 \n",
    "converter.inference_output_type = tf.int8\n",
    "\n",
    "tflite_model = converter.convert()\n",
    "\n",
    "# Save the model.\n",
    "tflite_model_path = 'mobilenet_v2.tflite'\n",
    "with open(tflite_model_path, 'wb') as f:\n",
    "  f.write(tflite_model)"
   ]
  },
  {
   "cell_type": "code",
   "execution_count": null,
   "id": "86e6c46f",
   "metadata": {},
   "outputs": [],
   "source": []
  }
 ],
 "metadata": {
  "kernelspec": {
   "display_name": "Python 3 (ipykernel)",
   "language": "python",
   "name": "python3"
  },
  "language_info": {
   "codemirror_mode": {
    "name": "ipython",
    "version": 3
   },
   "file_extension": ".py",
   "mimetype": "text/x-python",
   "name": "python",
   "nbconvert_exporter": "python",
   "pygments_lexer": "ipython3",
   "version": "3.8.8"
  }
 },
 "nbformat": 4,
 "nbformat_minor": 5
}
