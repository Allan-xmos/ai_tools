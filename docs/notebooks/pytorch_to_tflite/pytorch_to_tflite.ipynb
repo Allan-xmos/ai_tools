{
 "cells": [
  {
   "cell_type": "markdown",
   "id": "1c42ac65",
   "metadata": {},
   "source": [
    "# Converting PyTorch to TensorFlow Lite for xCORE Using ONNX\n",
    "\n",
    "ONNX is an open format built to represent machine learning models. We can convert from PyTorch to ONNX, then from ONNX to TensorFlow, then from TensorFlow to TensorFlow Lite, and finally, run it through xformer to optimise it for xCORE.\n",
    "Ensure that you have installed Python 3.8 and have the installed requirements.txt"
   ]
  },
  {
   "cell_type": "markdown",
   "id": "8a90a93c",
   "metadata": {},
   "source": [
    "## Import PyTorch Model\n",
    "\n",
    "For this example, we use mobilenet_v2."
   ]
  },
  {
   "cell_type": "code",
   "execution_count": null,
   "id": "f69af6e6",
   "metadata": {
    "scrolled": true
   },
   "outputs": [],
   "source": [
    "import torch\n",
    "\n",
    "pytorch_model = torch.hub.load('pytorch/vision:v0.10.0', 'mobilenet_v2', pretrained=True)\n",
    "\n",
    "# Switch the model to eval mode\n",
    "pytorch_model.eval()"
   ]
  },
  {
   "cell_type": "markdown",
   "id": "b2033740",
   "metadata": {},
   "source": [
    "### Run inference on model (to test)"
   ]
  },
  {
   "cell_type": "code",
   "execution_count": null,
   "id": "c10252ab",
   "metadata": {},
   "outputs": [],
   "source": [
    "# Download an image to test against\n",
    "import urllib\n",
    "url, filename = (\"https://github.com/pytorch/hub/raw/master/images/dog.jpg\", \"dog.jpg\")\n",
    "try: urllib.URLopener().retrieve(url, filename)\n",
    "except: urllib.request.urlretrieve(url, filename)"
   ]
  },
  {
   "cell_type": "code",
   "execution_count": null,
   "id": "9d609035",
   "metadata": {},
   "outputs": [],
   "source": [
    "# Download Image Labels\n",
    "!wget https://raw.githubusercontent.com/pytorch/hub/master/imagenet_classes.txt"
   ]
  },
  {
   "cell_type": "code",
   "execution_count": null,
   "id": "8ccda852",
   "metadata": {},
   "outputs": [],
   "source": [
    "# Read the categories\n",
    "with open(\"imagenet_classes.txt\", \"r\") as f:\n",
    "    categories = [s.strip() for s in f.readlines()]"
   ]
  },
  {
   "cell_type": "markdown",
   "id": "9b2630c0",
   "metadata": {},
   "source": [
    "### Perform an infrence on the pytorch model directly"
   ]
  },
  {
   "cell_type": "code",
   "execution_count": null,
   "id": "94f2b92a",
   "metadata": {},
   "outputs": [],
   "source": [
    "# We will test and train with these params\n",
    "batch_size = 1\n",
    "channels = 3\n",
    "height = 224\n",
    "width = 224"
   ]
  },
  {
   "cell_type": "code",
   "execution_count": null,
   "id": "5eb63c28",
   "metadata": {},
   "outputs": [],
   "source": [
    "from PIL import Image\n",
    "from torchvision import transforms\n",
    "\n",
    "# Open testing image\n",
    "input_image = Image.open(filename)\n",
    "\n",
    "preprocess = transforms.Compose([\n",
    "    transforms.Resize(256),\n",
    "    transforms.CenterCrop(height),\n",
    "    transforms.ToTensor(),\n",
    "    transforms.Normalize(mean=[0.485, 0.456, 0.406], std=[0.229, 0.224, 0.225]),\n",
    "])\n",
    "\n",
    "# Note Pytorch is BCHW\n",
    "input_tensor = preprocess(input_image)"
   ]
  },
  {
   "cell_type": "code",
   "execution_count": null,
   "id": "8424fc1c",
   "metadata": {},
   "outputs": [],
   "source": [
    "input_batch = input_tensor.unsqueeze(0) # create a mini-batch as expected by the model\n",
    "\n",
    "with torch.no_grad():\n",
    "    output = pytorch_model(input_batch)\n",
    "\n",
    "probabilities = torch.nn.functional.softmax(output[0], dim=0)\n",
    "\n",
    "# Show top categories per image\n",
    "vals, idxs = torch.topk(probabilities, 5)\n",
    "pytorch_results = [(categories[idx], prob) for (idx, prob) in zip(idxs.tolist(), vals.tolist())]\n",
    "for cat, prob in  pytorch_results:\n",
    "    print(cat, ':', prob)"
   ]
  },
  {
   "cell_type": "markdown",
   "id": "9b9fde0a",
   "metadata": {},
   "source": [
    "## Convert to ONNX\n"
   ]
  },
  {
   "cell_type": "code",
   "execution_count": null,
   "id": "6a13b79d",
   "metadata": {},
   "outputs": [],
   "source": [
    "# This is only for shape info for tracing the model during conversion\n",
    "sample_input = torch.rand((batch_size, channels, height, width))\n",
    "\n",
    "onnx_model_path = \"mobilenet_v2.onnx\"\n",
    "\n",
    "torch.onnx.export(\n",
    "    pytorch_model,\n",
    "    sample_input,\n",
    "    onnx_model_path,\n",
    "    input_names=['image'],\n",
    "    output_names=['probabilities']\n",
    ")"
   ]
  },
  {
   "cell_type": "markdown",
   "id": "f6475e32",
   "metadata": {},
   "source": [
    "### Check the exported model"
   ]
  },
  {
   "cell_type": "code",
   "execution_count": null,
   "id": "4bdc8eea",
   "metadata": {},
   "outputs": [],
   "source": [
    "import onnx\n",
    "onnx_model = onnx.load(onnx_model_path)\n",
    "onnx.checker.check_model(onnx_model)"
   ]
  },
  {
   "cell_type": "markdown",
   "id": "880d2393",
   "metadata": {},
   "source": [
    "### Check ONNX Output"
   ]
  },
  {
   "cell_type": "code",
   "execution_count": null,
   "id": "665cc98e",
   "metadata": {},
   "outputs": [],
   "source": [
    "import onnxruntime \n",
    "import numpy as np\n",
    "ort_session = onnxruntime.InferenceSession(onnx_model_path)\n",
    "\n",
    "def to_numpy(tensor):\n",
    "    return tensor.detach().cpu().numpy() if tensor.requires_grad else tensor.cpu().numpy()\n",
    "\n",
    "def softmax(xs):\n",
    "    return np.exp(xs)/sum(np.exp(xs))\n",
    "\n",
    "# compute ONNX Runtime output prediction\n",
    "input_batch_np = to_numpy(input_batch)\n",
    "ort_inputs = {ort_session.get_inputs()[0].name: input_batch_np}\n",
    "ort_outs = ort_session.run(None, ort_inputs)\n",
    "\n",
    "# The input is still BCHW\n",
    "data = zip(range(len(ort_outs[0][0])), softmax(ort_outs[0][0]))\n",
    "\n",
    "onnx_results = [(categories[idx], prob) for (idx, prob) in sorted(data, key=lambda x: x[1], reverse=True)[:5]]\n",
    "for cat, prob in  onnx_results:\n",
    "    print(cat, ':', prob)"
   ]
  },
  {
   "cell_type": "markdown",
   "id": "4db0f492",
   "metadata": {},
   "source": [
    "## Using onnx2tf\n",
    "\n",
    "Using package: https://github.com/PINTO0309/onnx2tf"
   ]
  },
  {
   "cell_type": "markdown",
   "id": "8bb5ad56",
   "metadata": {},
   "source": [
    "### Convert ONNX to Keras"
   ]
  },
  {
   "cell_type": "code",
   "execution_count": null,
   "id": "c2722c50",
   "metadata": {},
   "outputs": [],
   "source": [
    "import onnx2tf\n",
    "\n",
    "keras_model_path = 'mobilenet_v2.tf'\n",
    "\n",
    "keras_model = onnx2tf.convert(\n",
    "    input_onnx_file_path=onnx_model_path,\n",
    "    output_folder_path=keras_model_path,\n",
    "    non_verbose=True,\n",
    ")"
   ]
  },
  {
   "cell_type": "markdown",
   "id": "0549092a",
   "metadata": {},
   "source": [
    "### Check the conversion to keras"
   ]
  },
  {
   "cell_type": "code",
   "execution_count": null,
   "id": "72cdf53b",
   "metadata": {},
   "outputs": [],
   "source": [
    "#transpose the input_batch into BHWC order for tensorflow\n",
    "tf_input_data = np.transpose( input_batch.numpy(), [0, 2, 3, 1])\n",
    "\n",
    "keras_output_data = keras_model(tf_input_data)\n",
    "\n",
    "probs = softmax(keras_output_data[0])\n",
    "data = zip(range(len(probs)), probs)\n",
    "keras_results = [(categories[idx], prob) for (idx, prob) in sorted(data, key=lambda x: x[1], reverse=True)[:5]]\n",
    "for cat, prob in  keras_results:\n",
    "    print(cat, ':', prob)"
   ]
  },
  {
   "cell_type": "markdown",
   "id": "c60f3aa5",
   "metadata": {},
   "source": [
    "## Convert Keras to TFLite (float32)"
   ]
  },
  {
   "cell_type": "code",
   "execution_count": null,
   "id": "9b392bcc",
   "metadata": {},
   "outputs": [],
   "source": [
    "import tensorflow as tf\n",
    "\n",
    "converter = tf.lite.TFLiteConverter.from_keras_model(keras_model)\n",
    "converter.optimizations = [tf.lite.Optimize.DEFAULT]\n",
    "converter.target_spec.supported_ops = [tf.lite.OpsSet.TFLITE_BUILTINS]\n",
    "converter.inference_input_type = tf.float32 \n",
    "converter.inference_output_type = tf.float32\n",
    "\n",
    "tflite_model = converter.convert()\n",
    "\n",
    "# Save the model.\n",
    "tflite_float_model_path = 'mobilenet_v2_float.tflite'\n",
    "with open(tflite_float_model_path, 'wb') as f:\n",
    "  f.write(tflite_model)"
   ]
  },
  {
   "cell_type": "markdown",
   "id": "ba66dc2b",
   "metadata": {},
   "source": [
    "### Check it Worked"
   ]
  },
  {
   "cell_type": "code",
   "execution_count": null,
   "id": "85a1fce1",
   "metadata": {},
   "outputs": [],
   "source": [
    "tfl_interpreter = tf.lite.Interpreter(model_path=tflite_float_model_path)\n",
    "tfl_interpreter.allocate_tensors()\n",
    "\n",
    "tfl_input_details = tfl_interpreter.get_input_details()\n",
    "tfl_output_details = tfl_interpreter.get_output_details()\n",
    "\n",
    "# Convert PyTorch Input Tensor into Numpy Matrix and Reshape for TensorFlow\n",
    "# (Pytorch model expects C x H x W but TF expects H x W x C)\n",
    "tfl_interpreter.set_tensor(tfl_input_details[0]['index'], tf_input_data)\n",
    "tfl_interpreter.invoke()\n",
    "\n",
    "tfl_output_data = tfl_interpreter.get_tensor(tfl_output_details[0]['index'])\n",
    "\n",
    "probs = softmax(tfl_output_data[0])\n",
    "data = zip(range(len(probs)), probs)\n",
    "tfl_float32_results = [(categories[idx], prob) for (idx, prob) in sorted(data, key=lambda x: x[1], reverse=True)[:5]]\n",
    "for cat, prob in  tfl_float32_results:\n",
    "    print(cat, ':', prob)"
   ]
  },
  {
   "cell_type": "markdown",
   "id": "d497e02a",
   "metadata": {},
   "source": [
    "## Convert Keras to TFLite (int8)\n",
    "We will still feed the data into the model in float32 format for convinence but the internals of the model will be int8. This will require representitive data but as we interface in float32 we can use the pytorch preprocessing. "
   ]
  },
  {
   "cell_type": "markdown",
   "id": "98e1db68",
   "metadata": {},
   "source": [
    "## Representative Dataset\n",
    "\n",
    "To convert a model into to a TFLite flatbuffer, a representative dataset is required to help in quantisation. Refer to [Converting a keras model into an xcore optimised tflite model](https://colab.research.google.com/github/xmos/ai_tools/blob/develop/docs/notebooks/keras_to_xcore.ipynb) for more details on this."
   ]
  },
  {
   "cell_type": "markdown",
   "id": "3a7a5c3e",
   "metadata": {},
   "source": [
    "#### Download & Extract Images from Data Set"
   ]
  },
  {
   "cell_type": "code",
   "execution_count": null,
   "id": "15753408",
   "metadata": {},
   "outputs": [],
   "source": [
    "# We will use the imagenette dataset(326MB)\n",
    "!mkdir ./imagenet-dataset\n",
    "!wget https://s3.amazonaws.com/fast-ai-imageclas/imagenette2-320.tgz -O ./imagenet-dataset/imagenette2-320.tgz\n",
    "!tar -xf ./imagenet-dataset/imagenette2-320.tgz -C ./imagenet-dataset/"
   ]
  },
  {
   "cell_type": "code",
   "execution_count": null,
   "id": "32503a30",
   "metadata": {},
   "outputs": [],
   "source": [
    "import os\n",
    "import glob\n",
    "import random\n",
    "\n",
    "all_files = glob.glob(os.path.join(\"./imagenet-dataset/\", '**/*.JPEG'), recursive=True)\n",
    "\n",
    "# Randomly select a subset of images, let's just use 1k for speed\n",
    "sampled_files = random.sample(all_files, 1000)\n",
    "\n",
    "def representative_dataset():\n",
    "\n",
    "    # Iterate over the sampled images and preprocess them\n",
    "    for image_path in sampled_files:\n",
    "        pil_image = Image.open(image_path).convert(\"RGB\")\n",
    "        pytorch_tensor = preprocess(pil_image).unsqueeze(0)\n",
    "        img_array_np = pytorch_tensor.numpy()\n",
    "        \n",
    "        #swap the axes to BHWC(tf) from BCHW(pytorch)\n",
    "        img_array_np = np.transpose( img_array_np, [0, 2, 3, 1])\n",
    "        yield [img_array_np]"
   ]
  },
  {
   "cell_type": "code",
   "execution_count": null,
   "id": "61799382",
   "metadata": {},
   "outputs": [],
   "source": [
    "# Now do the conversion to int8\n",
    "import tensorflow as tf\n",
    "\n",
    "converter = tf.lite.TFLiteConverter.from_keras_model(keras_model)\n",
    "converter.optimizations = [tf.lite.Optimize.DEFAULT]\n",
    "converter.representative_dataset = representative_dataset\n",
    "converter.target_spec.supported_ops = [tf.lite.OpsSet.TFLITE_BUILTINS_INT8]\n",
    "converter.inference_input_type = tf.float32 \n",
    "converter.inference_output_type = tf.float32\n",
    "\n",
    "tflite_int8_model = converter.convert()\n",
    "\n",
    "# Save the model.\n",
    "tflite_int8_model_path = 'mobilenet_v2.tflite'\n",
    "with open(tflite_int8_model_path, 'wb') as f:\n",
    "  f.write(tflite_int8_model)"
   ]
  },
  {
   "cell_type": "code",
   "execution_count": null,
   "id": "38fd12d4",
   "metadata": {},
   "outputs": [],
   "source": [
    "tfl_interpreter = tf.lite.Interpreter(model_path=tflite_int8_model_path)\n",
    "tfl_interpreter.allocate_tensors()\n",
    "\n",
    "tfl_input_details = tfl_interpreter.get_input_details()\n",
    "tfl_output_details = tfl_interpreter.get_output_details()\n",
    "\n",
    "# Convert PyTorch Input Tensor into Numpy Matrix and Reshape for TensorFlow\n",
    "tfl_interpreter.set_tensor(tfl_input_details[0]['index'], tf_input_data)\n",
    "tfl_interpreter.invoke()\n",
    "\n",
    "tfl_output_data = tfl_interpreter.get_tensor(tfl_output_details[0]['index'])\n",
    "\n",
    "probs = softmax(tfl_output_data[0])\n",
    "data = zip(range(len(probs)), probs)\n",
    "tfl_int8_results = [(categories[idx], prob) for (idx, prob) in sorted(data, key=lambda x: x[1], reverse=True)[:5]]\n",
    "for cat, prob in  tfl_int8_results:\n",
    "    print(cat, ':', prob)"
   ]
  },
  {
   "cell_type": "markdown",
   "id": "5bd9ae5b",
   "metadata": {},
   "source": [
    "# Analysing Models\n",
    "\n",
    "Defined below is a function to print out the operator counts of a model."
   ]
  },
  {
   "cell_type": "code",
   "execution_count": null,
   "id": "acc21b12",
   "metadata": {},
   "outputs": [],
   "source": [
    "import io\n",
    "from contextlib import redirect_stdout\n",
    "\n",
    "def get_operator_counts(model_content):\n",
    "    with io.StringIO() as buf, redirect_stdout(buf):\n",
    "        tf.lite.experimental.Analyzer.analyze(model_content=model_content)\n",
    "        model_structure = buf.getvalue()\n",
    "\n",
    "    operators = [op.strip().split(\" \")[1].split(\"(\")[0] for op in model_structure.split(\"\\n\") if \"Op#\" in op]\n",
    "    op_counts = {}\n",
    "    for operator in operators:\n",
    "        if operator in op_counts:\n",
    "            op_counts[operator] = op_counts[operator]+1\n",
    "        else:\n",
    "            op_counts[operator] = 1\n",
    "        \n",
    "    return (len(operators), op_counts)\n",
    "\n",
    "def print_operator_counts(model_content):\n",
    "    total_op_count, op_counts = get_operator_counts(model_content)\n",
    "    print(f\"{'Operator'.upper():<20} {'Count'.upper():>6}\")\n",
    "    print(\"-\"*20 + \" \" + \"-\"*6)\n",
    "    \n",
    "    for operator, count in op_counts.items():\n",
    "        print(f\"{operator.lower():<20} {count:>6}\")\n",
    "        \n",
    "    print(\"-\"*20 + \" \" + \"-\"*6)\n",
    "    print(f\"{'Total'.upper():<20} {total_op_count:>6}\")\n",
    "    print(\"-\"*20 + \" \" + \"-\"*6)"
   ]
  },
  {
   "cell_type": "code",
   "execution_count": null,
   "id": "37ecb085",
   "metadata": {},
   "outputs": [],
   "source": [
    "# Let's inspect the int8 model\n",
    "print_operator_counts(tflite_int8_model)"
   ]
  }
 ],
 "metadata": {
  "kernelspec": {
   "display_name": "Python 3 (ipykernel)",
   "language": "python",
   "name": "python3"
  },
  "language_info": {
   "codemirror_mode": {
    "name": "ipython",
    "version": 3
   },
   "file_extension": ".py",
   "mimetype": "text/x-python",
   "name": "python",
   "nbconvert_exporter": "python",
   "pygments_lexer": "ipython3",
   "version": "3.8.16"
  }
 },
 "nbformat": 4,
 "nbformat_minor": 5
}
